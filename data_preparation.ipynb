{
 "cells": [
  {
   "cell_type": "code",
   "execution_count": 1,
   "id": "initial_id",
   "metadata": {
    "ExecuteTime": {
     "end_time": "2025-03-26T10:44:35.863012Z",
     "start_time": "2025-03-26T10:44:35.860017Z"
    }
   },
   "outputs": [
    {
     "ename": "ModuleNotFoundError",
     "evalue": "No module named 'seaborn'",
     "output_type": "error",
     "traceback": [
      "\u001B[0;31m---------------------------------------------------------------------------\u001B[0m",
      "\u001B[0;31mModuleNotFoundError\u001B[0m                       Traceback (most recent call last)",
      "Cell \u001B[0;32mIn[1], line 4\u001B[0m\n\u001B[1;32m      2\u001B[0m \u001B[38;5;28;01mimport\u001B[39;00m\u001B[38;5;250m \u001B[39m\u001B[38;5;21;01mnumpy\u001B[39;00m\u001B[38;5;250m \u001B[39m\u001B[38;5;28;01mas\u001B[39;00m\u001B[38;5;250m \u001B[39m\u001B[38;5;21;01mnp\u001B[39;00m\n\u001B[1;32m      3\u001B[0m \u001B[38;5;28;01mimport\u001B[39;00m\u001B[38;5;250m \u001B[39m\u001B[38;5;21;01mmatplotlib\u001B[39;00m\u001B[38;5;21;01m.\u001B[39;00m\u001B[38;5;21;01mpyplot\u001B[39;00m\u001B[38;5;250m \u001B[39m\u001B[38;5;28;01mas\u001B[39;00m\u001B[38;5;250m \u001B[39m\u001B[38;5;21;01mplt\u001B[39;00m\n\u001B[0;32m----> 4\u001B[0m \u001B[38;5;28;01mimport\u001B[39;00m\u001B[38;5;250m \u001B[39m\u001B[38;5;21;01mseaborn\u001B[39;00m\u001B[38;5;250m \u001B[39m\u001B[38;5;28;01mas\u001B[39;00m\u001B[38;5;250m \u001B[39m\u001B[38;5;21;01msns\u001B[39;00m\n\u001B[1;32m      5\u001B[0m \u001B[38;5;28;01mfrom\u001B[39;00m\u001B[38;5;250m \u001B[39m\u001B[38;5;21;01mdatetime\u001B[39;00m\u001B[38;5;250m \u001B[39m\u001B[38;5;28;01mimport\u001B[39;00m datetime\n",
      "\u001B[0;31mModuleNotFoundError\u001B[0m: No module named 'seaborn'"
     ]
    }
   ],
   "source": [
    "import pandas as pd\n",
    "import numpy as np\n",
    "import matplotlib.pyplot as plt\n",
    "import seaborn as sns\n",
    "from datetime import datetime"
   ]
  },
  {
   "cell_type": "code",
   "execution_count": null,
   "id": "ef585124f4999615",
   "metadata": {
    "ExecuteTime": {
     "end_time": "2025-03-26T10:45:22.129107Z",
     "start_time": "2025-03-26T10:45:20.217828Z"
    }
   },
   "outputs": [],
   "source": [
    "df = pd.read_csv('Food_Inspections_20250216.csv')"
   ]
  },
  {
   "cell_type": "markdown",
   "id": "442a81b099559c37",
   "metadata": {},
   "source": [
    "metainfo of the data"
   ]
  },
  {
   "cell_type": "code",
   "execution_count": null,
   "id": "57fb5ec7b86aab2b",
   "metadata": {
    "ExecuteTime": {
     "end_time": "2025-03-26T10:49:24.872733Z",
     "start_time": "2025-03-26T10:49:24.866573Z"
    }
   },
   "outputs": [],
   "source": [
    "df.shape\n",
    "df.dtypes"
   ]
  },
  {
   "cell_type": "code",
   "execution_count": null,
   "id": "24cf153a1c36ab88",
   "metadata": {
    "ExecuteTime": {
     "end_time": "2025-03-26T10:47:14.129058Z",
     "start_time": "2025-03-26T10:47:14.116062Z"
    }
   },
   "outputs": [],
   "source": [
    "df.head()"
   ]
  },
  {
   "cell_type": "markdown",
   "id": "5e25501ebfa87d62",
   "metadata": {},
   "source": [
    "# single column profiling\n",
    "## missing values"
   ]
  },
  {
   "cell_type": "code",
   "execution_count": null,
   "id": "13893ff64d4ff366",
   "metadata": {
    "ExecuteTime": {
     "end_time": "2025-03-26T10:51:23.687709Z",
     "start_time": "2025-03-26T10:51:23.614514Z"
    }
   },
   "outputs": [],
   "source": [
    "missing_values = df.isnull().sum()\n",
    "missing_values"
   ]
  },
  {
   "cell_type": "markdown",
   "id": "77ffce4872b67c0e",
   "metadata": {},
   "source": [
    "## column: facility tpye"
   ]
  },
  {
   "cell_type": "code",
   "execution_count": null,
   "id": "3a2fa626a92243a1",
   "metadata": {
    "ExecuteTime": {
     "end_time": "2025-03-26T11:02:06.397598Z",
     "start_time": "2025-03-26T11:02:06.379327Z"
    }
   },
   "outputs": [],
   "source": [
    "facility_counts = df['Facility Type'].value_counts()\n",
    "facility_counts"
   ]
  },
  {
   "cell_type": "markdown",
   "id": "d15f5e32ac1e38f",
   "metadata": {},
   "source": [
    "## Column Risk"
   ]
  },
  {
   "cell_type": "code",
   "execution_count": null,
   "id": "3114134328d54b6f",
   "metadata": {
    "ExecuteTime": {
     "end_time": "2025-03-26T11:08:02.094063Z",
     "start_time": "2025-03-26T11:08:02.004475Z"
    }
   },
   "outputs": [],
   "source": [
    "risk_counts = df['Risk'].value_counts()\n",
    "risk_counts\n",
    "plt.figure(figsize=(8, 6))\n",
    "risk_counts.plot(kind='bar')"
   ]
  },
  {
   "cell_type": "markdown",
   "id": "afaffc6c8ac1f2f7",
   "metadata": {},
   "source": [
    "## column inspection_type"
   ]
  },
  {
   "cell_type": "code",
   "execution_count": null,
   "id": "f1db3d5625cfa5",
   "metadata": {
    "ExecuteTime": {
     "end_time": "2025-03-26T11:09:00.132966Z",
     "start_time": "2025-03-26T11:09:00.111595Z"
    }
   },
   "outputs": [],
   "source": [
    "inspection_type_counts = df['Inspection Type'].value_counts()\n",
    "inspection_type_counts"
   ]
  },
  {
   "cell_type": "markdown",
   "id": "d9ee8258a3d83e1f",
   "metadata": {},
   "source": [
    "## Column: violation"
   ]
  },
  {
   "cell_type": "code",
   "execution_count": null,
   "id": "7626e36463698a1",
   "metadata": {
    "ExecuteTime": {
     "end_time": "2025-03-26T11:13:37.558584Z",
     "start_time": "2025-03-26T11:13:37.410528Z"
    }
   },
   "outputs": [],
   "source": [
    "violation_counts = df['Violations'].value_counts()\n",
    "violation_counts"
   ]
  },
  {
   "cell_type": "markdown",
   "id": "1f7e9894f9efcc7c",
   "metadata": {},
   "source": [
    "## column: inspertion data "
   ]
  },
  {
   "cell_type": "code",
   "execution_count": null,
   "id": "81935f89d53ecbae",
   "metadata": {
    "ExecuteTime": {
     "end_time": "2025-03-26T11:18:25.519743Z",
     "start_time": "2025-03-26T11:18:25.469847Z"
    }
   },
   "outputs": [],
   "source": [
    "df['Inspection Date'] = pd.to_datetime(df['Inspection Date'], format=\"%m/%d/%Y\", errors='coerce')"
   ]
  },
  {
   "cell_type": "code",
   "execution_count": null,
   "id": "de4e256b80810bdb",
   "metadata": {
    "ExecuteTime": {
     "end_time": "2025-03-26T11:21:27.289963Z",
     "start_time": "2025-03-26T11:21:27.149297Z"
    }
   },
   "outputs": [],
   "source": [
    "df['Year'] = df['Inspection Date'].dt.year\n",
    "df['Month'] = df['Inspection Date'].dt.month\n",
    "\n",
    "# 按年份统计通过率\n",
    "yearly_results = pd.crosstab(df['Year'], df['Results'])\n",
    "yearly_pass_rate = yearly_results['Pass'] / yearly_results.sum(axis=1) * 100\n",
    "yearly_pass_rate.plot(kind='line',marker = 'o')"
   ]
  },
  {
   "cell_type": "markdown",
   "id": "be42358e50d1bc9c",
   "metadata": {},
   "source": [
    "## results"
   ]
  },
  {
   "cell_type": "code",
   "execution_count": null,
   "id": "180c2f25afbbc3aa",
   "metadata": {
    "ExecuteTime": {
     "end_time": "2025-03-26T11:48:58.602897Z",
     "start_time": "2025-03-26T11:48:58.588212Z"
    }
   },
   "outputs": [],
   "source": [
    "result_counts = df['Results'].value_counts()\n",
    "result_counts"
   ]
  },
  {
   "cell_type": "code",
   "execution_count": null,
   "id": "37092850ccad9206",
   "metadata": {
    "ExecuteTime": {
     "end_time": "2025-03-26T11:49:59.597482Z",
     "start_time": "2025-03-26T11:49:59.089106Z"
    }
   },
   "outputs": [],
   "source": [
    "plt.figure(figsize=(10, 8))\n",
    "plt.scatter(df['Longitude'], df['Latitude'], alpha=0.5, s=5)\n",
    "plt.title('geographic_distribution')\n",
    "plt.xlabel('Longitude')\n",
    "plt.ylabel('Latitude')\n",
    "plt.grid(True)\n",
    "plt.tight_layout()\n"
   ]
  },
  {
   "cell_type": "code",
   "execution_count": null,
   "id": "70cb8eae064febbe",
   "metadata": {
    "ExecuteTime": {
     "end_time": "2025-03-26T11:51:23.285722Z",
     "start_time": "2025-03-26T11:51:23.129075Z"
    }
   },
   "outputs": [],
   "source": [
    "\n",
    "risk_result = pd.crosstab(df['Risk'], df['Results'], normalize='index') * 100\n",
    "plt.figure(figsize=(12, 6))\n",
    "risk_result.plot(kind='bar', stacked=True)\n",
    "plt.tight_layout()"
   ]
  },
  {
   "cell_type": "markdown",
   "id": "8086b95793f80822",
   "metadata": {},
   "source": [
    "# association rules between columns\n"
   ]
  },
  {
   "cell_type": "markdown",
   "id": "97c0c95b14807127",
   "metadata": {},
   "source": [
    "## data structuring"
   ]
  },
  {
   "cell_type": "code",
   "id": "dd60a993c46bc3c",
   "metadata": {
    "ExecuteTime": {
     "end_time": "2025-04-21T14:28:02.857238Z",
     "start_time": "2025-04-21T14:28:02.852799Z"
    }
   },
   "source": [
    "import pandas as pd\n",
    "import numpy as np\n",
    "import matplotlib.pyplot as plt\n",
    "from mlxtend.frequent_patterns import apriori, association_rules\n",
    "import re\n",
    "from datetime import datetime\n",
    "import seaborn as sns\n",
    "import networkx as nx\n",
    "from sklearn.preprocessing import OneHotEncoder"
   ],
   "outputs": [],
   "execution_count": 2
  },
  {
   "cell_type": "code",
   "id": "d945d3a389720d61",
   "metadata": {
    "ExecuteTime": {
     "end_time": "2025-04-21T14:28:07.674236Z",
     "start_time": "2025-04-21T14:28:05.985841Z"
    }
   },
   "source": [
    "df = pd.read_csv('Food_Inspections_20250216.csv')"
   ],
   "outputs": [],
   "execution_count": 3
  },
  {
   "cell_type": "code",
   "id": "4ba079acd3d73a4c",
   "metadata": {
    "ExecuteTime": {
     "end_time": "2025-04-21T14:28:08.239686Z",
     "start_time": "2025-04-21T14:28:08.234476Z"
    }
   },
   "source": [
    "def extract_violation_codes(text):\n",
    "    if pd.isna(text):\n",
    "        return []\n",
    "    # 提取违规代码 (例如: 32, 10, 47 等)\n",
    "    codes = re.findall(r\"\\b(\\d+)\\.(?=\\s+[A-Z])\", text)\n",
    "    return codes"
   ],
   "outputs": [],
   "execution_count": 4
  },
  {
   "cell_type": "code",
   "id": "2b3aac8045ceaa06",
   "metadata": {
    "ExecuteTime": {
     "end_time": "2025-04-21T14:28:21.440969Z",
     "start_time": "2025-04-21T14:28:11.092974Z"
    }
   },
   "source": [
    "transactions = []\n",
    "for idx, row in df.iterrows():\n",
    "    transaction = {\n",
    "        'Facility_Type': row['Facility Type'],\n",
    "        'Risk': row['Risk'],\n",
    "        'Results': row['Results'],\n",
    "        'Inspection_Type': row['Inspection Type']\n",
    "    }\n",
    "\n",
    "    # 添加违规代码\n",
    "    if not pd.isna(row['Violations']):\n",
    "        violation_codes = extract_violation_codes(row['Violations'])\n",
    "        for code in violation_codes:\n",
    "            transaction[f'Violation_{code}'] = 1\n",
    "\n",
    "    transactions.append(transaction)"
   ],
   "outputs": [],
   "execution_count": 5
  },
  {
   "cell_type": "code",
   "id": "8a65028d440063",
   "metadata": {
    "ExecuteTime": {
     "end_time": "2025-04-21T14:29:01.997082Z",
     "start_time": "2025-04-21T14:28:30.273176Z"
    }
   },
   "source": [
    "trans_df = pd.DataFrame(transactions)"
   ],
   "outputs": [],
   "execution_count": 6
  },
  {
   "cell_type": "code",
   "id": "b3cef8c88aeaa827",
   "metadata": {
    "ExecuteTime": {
     "end_time": "2025-04-21T14:29:02.355641Z",
     "start_time": "2025-04-21T14:29:02.052684Z"
    }
   },
   "source": [
    "trans_df.head()"
   ],
   "outputs": [
    {
     "data": {
      "text/plain": [
       "        Facility_Type             Risk             Results Inspection_Type  \\\n",
       "0  Daycare Combo 1586    Risk 1 (High)                Pass         License   \n",
       "1          Restaurant    Risk 1 (High)                Fail       Complaint   \n",
       "2       Grocery Store  Risk 2 (Medium)                Fail         License   \n",
       "3       Grocery Store  Risk 2 (Medium)  Pass w/ Conditions         Canvass   \n",
       "4          Restaurant    Risk 1 (High)                Pass         Canvass   \n",
       "\n",
       "   Violation_32  Violation_34  Violation_35  Violation_1  Violation_2  \\\n",
       "0           1.0           1.0           1.0          NaN          NaN   \n",
       "1           NaN           NaN           NaN          1.0          1.0   \n",
       "2           1.0           1.0           1.0          NaN          NaN   \n",
       "3           NaN           NaN           NaN          NaN          1.0   \n",
       "4           NaN           NaN           NaN          NaN          NaN   \n",
       "\n",
       "   Violation_10  ...  Violation_2557079  Violation_2547099  Violation_5000  \\\n",
       "0           NaN  ...                NaN                NaN             NaN   \n",
       "1           1.0  ...                NaN                NaN             NaN   \n",
       "2           NaN  ...                NaN                NaN             NaN   \n",
       "3           1.0  ...                NaN                NaN             NaN   \n",
       "4           NaN  ...                NaN                NaN             NaN   \n",
       "\n",
       "   Violation_2301086  Violation_2500516  Violation_2584227  Violation_2243965  \\\n",
       "0                NaN                NaN                NaN                NaN   \n",
       "1                NaN                NaN                NaN                NaN   \n",
       "2                NaN                NaN                NaN                NaN   \n",
       "3                NaN                NaN                NaN                NaN   \n",
       "4                NaN                NaN                NaN                NaN   \n",
       "\n",
       "   Violation_2243637  Violation_233  Violation_2555138  \n",
       "0                NaN            NaN                NaN  \n",
       "1                NaN            NaN                NaN  \n",
       "2                NaN            NaN                NaN  \n",
       "3                NaN            NaN                NaN  \n",
       "4                NaN            NaN                NaN  \n",
       "\n",
       "[5 rows x 1183 columns]"
      ],
      "text/html": [
       "<div>\n",
       "<style scoped>\n",
       "    .dataframe tbody tr th:only-of-type {\n",
       "        vertical-align: middle;\n",
       "    }\n",
       "\n",
       "    .dataframe tbody tr th {\n",
       "        vertical-align: top;\n",
       "    }\n",
       "\n",
       "    .dataframe thead th {\n",
       "        text-align: right;\n",
       "    }\n",
       "</style>\n",
       "<table border=\"1\" class=\"dataframe\">\n",
       "  <thead>\n",
       "    <tr style=\"text-align: right;\">\n",
       "      <th></th>\n",
       "      <th>Facility_Type</th>\n",
       "      <th>Risk</th>\n",
       "      <th>Results</th>\n",
       "      <th>Inspection_Type</th>\n",
       "      <th>Violation_32</th>\n",
       "      <th>Violation_34</th>\n",
       "      <th>Violation_35</th>\n",
       "      <th>Violation_1</th>\n",
       "      <th>Violation_2</th>\n",
       "      <th>Violation_10</th>\n",
       "      <th>...</th>\n",
       "      <th>Violation_2557079</th>\n",
       "      <th>Violation_2547099</th>\n",
       "      <th>Violation_5000</th>\n",
       "      <th>Violation_2301086</th>\n",
       "      <th>Violation_2500516</th>\n",
       "      <th>Violation_2584227</th>\n",
       "      <th>Violation_2243965</th>\n",
       "      <th>Violation_2243637</th>\n",
       "      <th>Violation_233</th>\n",
       "      <th>Violation_2555138</th>\n",
       "    </tr>\n",
       "  </thead>\n",
       "  <tbody>\n",
       "    <tr>\n",
       "      <th>0</th>\n",
       "      <td>Daycare Combo 1586</td>\n",
       "      <td>Risk 1 (High)</td>\n",
       "      <td>Pass</td>\n",
       "      <td>License</td>\n",
       "      <td>1.0</td>\n",
       "      <td>1.0</td>\n",
       "      <td>1.0</td>\n",
       "      <td>NaN</td>\n",
       "      <td>NaN</td>\n",
       "      <td>NaN</td>\n",
       "      <td>...</td>\n",
       "      <td>NaN</td>\n",
       "      <td>NaN</td>\n",
       "      <td>NaN</td>\n",
       "      <td>NaN</td>\n",
       "      <td>NaN</td>\n",
       "      <td>NaN</td>\n",
       "      <td>NaN</td>\n",
       "      <td>NaN</td>\n",
       "      <td>NaN</td>\n",
       "      <td>NaN</td>\n",
       "    </tr>\n",
       "    <tr>\n",
       "      <th>1</th>\n",
       "      <td>Restaurant</td>\n",
       "      <td>Risk 1 (High)</td>\n",
       "      <td>Fail</td>\n",
       "      <td>Complaint</td>\n",
       "      <td>NaN</td>\n",
       "      <td>NaN</td>\n",
       "      <td>NaN</td>\n",
       "      <td>1.0</td>\n",
       "      <td>1.0</td>\n",
       "      <td>1.0</td>\n",
       "      <td>...</td>\n",
       "      <td>NaN</td>\n",
       "      <td>NaN</td>\n",
       "      <td>NaN</td>\n",
       "      <td>NaN</td>\n",
       "      <td>NaN</td>\n",
       "      <td>NaN</td>\n",
       "      <td>NaN</td>\n",
       "      <td>NaN</td>\n",
       "      <td>NaN</td>\n",
       "      <td>NaN</td>\n",
       "    </tr>\n",
       "    <tr>\n",
       "      <th>2</th>\n",
       "      <td>Grocery Store</td>\n",
       "      <td>Risk 2 (Medium)</td>\n",
       "      <td>Fail</td>\n",
       "      <td>License</td>\n",
       "      <td>1.0</td>\n",
       "      <td>1.0</td>\n",
       "      <td>1.0</td>\n",
       "      <td>NaN</td>\n",
       "      <td>NaN</td>\n",
       "      <td>NaN</td>\n",
       "      <td>...</td>\n",
       "      <td>NaN</td>\n",
       "      <td>NaN</td>\n",
       "      <td>NaN</td>\n",
       "      <td>NaN</td>\n",
       "      <td>NaN</td>\n",
       "      <td>NaN</td>\n",
       "      <td>NaN</td>\n",
       "      <td>NaN</td>\n",
       "      <td>NaN</td>\n",
       "      <td>NaN</td>\n",
       "    </tr>\n",
       "    <tr>\n",
       "      <th>3</th>\n",
       "      <td>Grocery Store</td>\n",
       "      <td>Risk 2 (Medium)</td>\n",
       "      <td>Pass w/ Conditions</td>\n",
       "      <td>Canvass</td>\n",
       "      <td>NaN</td>\n",
       "      <td>NaN</td>\n",
       "      <td>NaN</td>\n",
       "      <td>NaN</td>\n",
       "      <td>1.0</td>\n",
       "      <td>1.0</td>\n",
       "      <td>...</td>\n",
       "      <td>NaN</td>\n",
       "      <td>NaN</td>\n",
       "      <td>NaN</td>\n",
       "      <td>NaN</td>\n",
       "      <td>NaN</td>\n",
       "      <td>NaN</td>\n",
       "      <td>NaN</td>\n",
       "      <td>NaN</td>\n",
       "      <td>NaN</td>\n",
       "      <td>NaN</td>\n",
       "    </tr>\n",
       "    <tr>\n",
       "      <th>4</th>\n",
       "      <td>Restaurant</td>\n",
       "      <td>Risk 1 (High)</td>\n",
       "      <td>Pass</td>\n",
       "      <td>Canvass</td>\n",
       "      <td>NaN</td>\n",
       "      <td>NaN</td>\n",
       "      <td>NaN</td>\n",
       "      <td>NaN</td>\n",
       "      <td>NaN</td>\n",
       "      <td>NaN</td>\n",
       "      <td>...</td>\n",
       "      <td>NaN</td>\n",
       "      <td>NaN</td>\n",
       "      <td>NaN</td>\n",
       "      <td>NaN</td>\n",
       "      <td>NaN</td>\n",
       "      <td>NaN</td>\n",
       "      <td>NaN</td>\n",
       "      <td>NaN</td>\n",
       "      <td>NaN</td>\n",
       "      <td>NaN</td>\n",
       "    </tr>\n",
       "  </tbody>\n",
       "</table>\n",
       "<p>5 rows × 1183 columns</p>\n",
       "</div>"
      ]
     },
     "execution_count": 7,
     "metadata": {},
     "output_type": "execute_result"
    }
   ],
   "execution_count": 7
  },
  {
   "cell_type": "code",
   "id": "3604ca5a9951c061",
   "metadata": {
    "ExecuteTime": {
     "end_time": "2025-04-21T14:31:02.281522Z",
     "start_time": "2025-04-21T14:30:57.835047Z"
    }
   },
   "source": [
    "# 填充缺失值为0（表示没有该违规）\n",
    "for col in trans_df.columns:\n",
    "    if col.startswith('Violation_'):\n",
    "        trans_df[col] = trans_df[col].fillna(0)"
   ],
   "outputs": [],
   "execution_count": 8
  },
  {
   "cell_type": "code",
   "id": "cda664194e37622e",
   "metadata": {
    "ExecuteTime": {
     "end_time": "2025-04-21T14:31:13.934545Z",
     "start_time": "2025-04-21T14:31:02.288204Z"
    }
   },
   "source": [
    "categorical_cols = ['Facility_Type', 'Risk', 'Results', 'Inspection_Type']\n",
    "for col in categorical_cols:\n",
    "    dummies = pd.get_dummies(trans_df[col], prefix=col)\n",
    "    trans_df = pd.concat([trans_df, dummies], axis=1)\n",
    "    trans_df.drop(col, axis=1, inplace=True)\n"
   ],
   "outputs": [],
   "execution_count": 9
  },
  {
   "cell_type": "code",
   "id": "3ffadea8dac7d526",
   "metadata": {
    "ExecuteTime": {
     "end_time": "2025-04-21T14:31:14.019057Z",
     "start_time": "2025-04-21T14:31:13.995210Z"
    }
   },
   "source": [
    "trans_df.head()"
   ],
   "outputs": [
    {
     "data": {
      "text/plain": [
       "   Violation_32  Violation_34  Violation_35  Violation_1  Violation_2  \\\n",
       "0           1.0           1.0           1.0          0.0          0.0   \n",
       "1           0.0           0.0           0.0          1.0          1.0   \n",
       "2           1.0           1.0           1.0          0.0          0.0   \n",
       "3           0.0           0.0           0.0          0.0          1.0   \n",
       "4           0.0           0.0           0.0          0.0          0.0   \n",
       "\n",
       "   Violation_10  Violation_21  Violation_22  Violation_39  Violation_41  ...  \\\n",
       "0           0.0           0.0           0.0           0.0           0.0  ...   \n",
       "1           1.0           1.0           1.0           1.0           1.0  ...   \n",
       "2           0.0           0.0           0.0           0.0           0.0  ...   \n",
       "3           1.0           0.0           0.0           0.0           0.0  ...   \n",
       "4           0.0           0.0           0.0           0.0           0.0  ...   \n",
       "\n",
       "   Inspection_Type_expansion  \\\n",
       "0                      False   \n",
       "1                      False   \n",
       "2                      False   \n",
       "3                      False   \n",
       "4                      False   \n",
       "\n",
       "   Inspection_Type_finish complaint inspection from 5-18-10  \\\n",
       "0                                              False          \n",
       "1                                              False          \n",
       "2                                              False          \n",
       "3                                              False          \n",
       "4                                              False          \n",
       "\n",
       "   Inspection_Type_fire complaint  Inspection_Type_license  \\\n",
       "0                           False                    False   \n",
       "1                           False                    False   \n",
       "2                           False                    False   \n",
       "3                           False                    False   \n",
       "4                           False                    False   \n",
       "\n",
       "   Inspection_Type_license task 1474  Inspection_Type_no entry  \\\n",
       "0                              False                     False   \n",
       "1                              False                     False   \n",
       "2                              False                     False   \n",
       "3                              False                     False   \n",
       "4                              False                     False   \n",
       "\n",
       "   Inspection_Type_out ofbusiness  Inspection_Type_sfp/complaint  \\\n",
       "0                           False                          False   \n",
       "1                           False                          False   \n",
       "2                           False                          False   \n",
       "3                           False                          False   \n",
       "4                           False                          False   \n",
       "\n",
       "   Inspection_Type_task force  Inspection_Type_task force(1470) liquor tavern  \n",
       "0                       False                                           False  \n",
       "1                       False                                           False  \n",
       "2                       False                                           False  \n",
       "3                       False                                           False  \n",
       "4                       False                                           False  \n",
       "\n",
       "[5 rows x 1819 columns]"
      ],
      "text/html": [
       "<div>\n",
       "<style scoped>\n",
       "    .dataframe tbody tr th:only-of-type {\n",
       "        vertical-align: middle;\n",
       "    }\n",
       "\n",
       "    .dataframe tbody tr th {\n",
       "        vertical-align: top;\n",
       "    }\n",
       "\n",
       "    .dataframe thead th {\n",
       "        text-align: right;\n",
       "    }\n",
       "</style>\n",
       "<table border=\"1\" class=\"dataframe\">\n",
       "  <thead>\n",
       "    <tr style=\"text-align: right;\">\n",
       "      <th></th>\n",
       "      <th>Violation_32</th>\n",
       "      <th>Violation_34</th>\n",
       "      <th>Violation_35</th>\n",
       "      <th>Violation_1</th>\n",
       "      <th>Violation_2</th>\n",
       "      <th>Violation_10</th>\n",
       "      <th>Violation_21</th>\n",
       "      <th>Violation_22</th>\n",
       "      <th>Violation_39</th>\n",
       "      <th>Violation_41</th>\n",
       "      <th>...</th>\n",
       "      <th>Inspection_Type_expansion</th>\n",
       "      <th>Inspection_Type_finish complaint inspection from 5-18-10</th>\n",
       "      <th>Inspection_Type_fire complaint</th>\n",
       "      <th>Inspection_Type_license</th>\n",
       "      <th>Inspection_Type_license task 1474</th>\n",
       "      <th>Inspection_Type_no entry</th>\n",
       "      <th>Inspection_Type_out ofbusiness</th>\n",
       "      <th>Inspection_Type_sfp/complaint</th>\n",
       "      <th>Inspection_Type_task force</th>\n",
       "      <th>Inspection_Type_task force(1470) liquor tavern</th>\n",
       "    </tr>\n",
       "  </thead>\n",
       "  <tbody>\n",
       "    <tr>\n",
       "      <th>0</th>\n",
       "      <td>1.0</td>\n",
       "      <td>1.0</td>\n",
       "      <td>1.0</td>\n",
       "      <td>0.0</td>\n",
       "      <td>0.0</td>\n",
       "      <td>0.0</td>\n",
       "      <td>0.0</td>\n",
       "      <td>0.0</td>\n",
       "      <td>0.0</td>\n",
       "      <td>0.0</td>\n",
       "      <td>...</td>\n",
       "      <td>False</td>\n",
       "      <td>False</td>\n",
       "      <td>False</td>\n",
       "      <td>False</td>\n",
       "      <td>False</td>\n",
       "      <td>False</td>\n",
       "      <td>False</td>\n",
       "      <td>False</td>\n",
       "      <td>False</td>\n",
       "      <td>False</td>\n",
       "    </tr>\n",
       "    <tr>\n",
       "      <th>1</th>\n",
       "      <td>0.0</td>\n",
       "      <td>0.0</td>\n",
       "      <td>0.0</td>\n",
       "      <td>1.0</td>\n",
       "      <td>1.0</td>\n",
       "      <td>1.0</td>\n",
       "      <td>1.0</td>\n",
       "      <td>1.0</td>\n",
       "      <td>1.0</td>\n",
       "      <td>1.0</td>\n",
       "      <td>...</td>\n",
       "      <td>False</td>\n",
       "      <td>False</td>\n",
       "      <td>False</td>\n",
       "      <td>False</td>\n",
       "      <td>False</td>\n",
       "      <td>False</td>\n",
       "      <td>False</td>\n",
       "      <td>False</td>\n",
       "      <td>False</td>\n",
       "      <td>False</td>\n",
       "    </tr>\n",
       "    <tr>\n",
       "      <th>2</th>\n",
       "      <td>1.0</td>\n",
       "      <td>1.0</td>\n",
       "      <td>1.0</td>\n",
       "      <td>0.0</td>\n",
       "      <td>0.0</td>\n",
       "      <td>0.0</td>\n",
       "      <td>0.0</td>\n",
       "      <td>0.0</td>\n",
       "      <td>0.0</td>\n",
       "      <td>0.0</td>\n",
       "      <td>...</td>\n",
       "      <td>False</td>\n",
       "      <td>False</td>\n",
       "      <td>False</td>\n",
       "      <td>False</td>\n",
       "      <td>False</td>\n",
       "      <td>False</td>\n",
       "      <td>False</td>\n",
       "      <td>False</td>\n",
       "      <td>False</td>\n",
       "      <td>False</td>\n",
       "    </tr>\n",
       "    <tr>\n",
       "      <th>3</th>\n",
       "      <td>0.0</td>\n",
       "      <td>0.0</td>\n",
       "      <td>0.0</td>\n",
       "      <td>0.0</td>\n",
       "      <td>1.0</td>\n",
       "      <td>1.0</td>\n",
       "      <td>0.0</td>\n",
       "      <td>0.0</td>\n",
       "      <td>0.0</td>\n",
       "      <td>0.0</td>\n",
       "      <td>...</td>\n",
       "      <td>False</td>\n",
       "      <td>False</td>\n",
       "      <td>False</td>\n",
       "      <td>False</td>\n",
       "      <td>False</td>\n",
       "      <td>False</td>\n",
       "      <td>False</td>\n",
       "      <td>False</td>\n",
       "      <td>False</td>\n",
       "      <td>False</td>\n",
       "    </tr>\n",
       "    <tr>\n",
       "      <th>4</th>\n",
       "      <td>0.0</td>\n",
       "      <td>0.0</td>\n",
       "      <td>0.0</td>\n",
       "      <td>0.0</td>\n",
       "      <td>0.0</td>\n",
       "      <td>0.0</td>\n",
       "      <td>0.0</td>\n",
       "      <td>0.0</td>\n",
       "      <td>0.0</td>\n",
       "      <td>0.0</td>\n",
       "      <td>...</td>\n",
       "      <td>False</td>\n",
       "      <td>False</td>\n",
       "      <td>False</td>\n",
       "      <td>False</td>\n",
       "      <td>False</td>\n",
       "      <td>False</td>\n",
       "      <td>False</td>\n",
       "      <td>False</td>\n",
       "      <td>False</td>\n",
       "      <td>False</td>\n",
       "    </tr>\n",
       "  </tbody>\n",
       "</table>\n",
       "<p>5 rows × 1819 columns</p>\n",
       "</div>"
      ]
     },
     "execution_count": 10,
     "metadata": {},
     "output_type": "execute_result"
    }
   ],
   "execution_count": 10
  },
  {
   "cell_type": "code",
   "execution_count": null,
   "id": "ec4bd4c33031d941",
   "metadata": {
    "ExecuteTime": {
     "end_time": "2025-03-29T08:15:19.966534Z",
     "start_time": "2025-03-29T08:15:19.143559Z"
    }
   },
   "outputs": [],
   "source": [
    "trans_df = trans_df.astype(int)"
   ]
  },
  {
   "cell_type": "markdown",
   "id": "63d246b839cdf9df",
   "metadata": {},
   "source": [
    "## find association rules between violation"
   ]
  },
  {
   "cell_type": "code",
   "id": "dc52390468144563",
   "metadata": {
    "ExecuteTime": {
     "end_time": "2025-04-21T14:31:35.429873Z",
     "start_time": "2025-04-21T14:31:34.887088Z"
    }
   },
   "source": [
    "# 1. 分析违规代码之间的关联规则\n",
    "# 只选择违规代码列\n",
    "violation_cols = [col for col in trans_df.columns if col.startswith('Violation_')]\n",
    "violation_df = trans_df[violation_cols]"
   ],
   "outputs": [],
   "execution_count": 11
  },
  {
   "cell_type": "code",
   "id": "c11cde7586420f5c",
   "metadata": {
    "ExecuteTime": {
     "end_time": "2025-04-21T14:31:42.138810Z",
     "start_time": "2025-04-21T14:31:39.629074Z"
    }
   },
   "source": [
    "# 应用Apriori算法找出频繁项集\n",
    "frequent_itemsets = apriori(violation_df, min_support=0.1, use_colnames=True)"
   ],
   "outputs": [
    {
     "name": "stderr",
     "output_type": "stream",
     "text": [
      "C:\\Users\\87975\\anaconda3\\Lib\\site-packages\\mlxtend\\frequent_patterns\\fpcommon.py:161: DeprecationWarning: DataFrames with non-bool types result in worse computationalperformance and their support might be discontinued in the future.Please use a DataFrame with bool type\n",
      "  warnings.warn(\n"
     ]
    }
   ],
   "execution_count": 12
  },
  {
   "cell_type": "code",
   "id": "434c5af84ba501ce",
   "metadata": {
    "ExecuteTime": {
     "end_time": "2025-04-21T14:31:43.648777Z",
     "start_time": "2025-04-21T14:31:43.638780Z"
    }
   },
   "source": [
    "frequent_itemsets.sort_values(ascending=False, by= 'support')"
   ],
   "outputs": [
    {
     "data": {
      "text/plain": [
       "     support                                    itemsets\n",
       "1   0.246476                              (Violation_34)\n",
       "6   0.240014                              (Violation_38)\n",
       "5   0.228790                              (Violation_33)\n",
       "2   0.225037                              (Violation_35)\n",
       "0   0.186452                              (Violation_32)\n",
       "4   0.161738                              (Violation_55)\n",
       "12  0.152230                (Violation_34, Violation_33)\n",
       "11  0.146426                (Violation_35, Violation_34)\n",
       "3   0.136131                              (Violation_41)\n",
       "14  0.131498                (Violation_35, Violation_33)\n",
       "7   0.118181                              (Violation_36)\n",
       "8   0.113513                (Violation_34, Violation_32)\n",
       "13  0.109088                (Violation_38, Violation_34)\n",
       "9   0.107148                (Violation_35, Violation_32)\n",
       "10  0.106734                (Violation_33, Violation_32)\n",
       "15  0.103695                (Violation_38, Violation_35)\n",
       "17  0.102459  (Violation_35, Violation_34, Violation_33)\n",
       "16  0.100659                (Violation_38, Violation_33)"
      ],
      "text/html": [
       "<div>\n",
       "<style scoped>\n",
       "    .dataframe tbody tr th:only-of-type {\n",
       "        vertical-align: middle;\n",
       "    }\n",
       "\n",
       "    .dataframe tbody tr th {\n",
       "        vertical-align: top;\n",
       "    }\n",
       "\n",
       "    .dataframe thead th {\n",
       "        text-align: right;\n",
       "    }\n",
       "</style>\n",
       "<table border=\"1\" class=\"dataframe\">\n",
       "  <thead>\n",
       "    <tr style=\"text-align: right;\">\n",
       "      <th></th>\n",
       "      <th>support</th>\n",
       "      <th>itemsets</th>\n",
       "    </tr>\n",
       "  </thead>\n",
       "  <tbody>\n",
       "    <tr>\n",
       "      <th>1</th>\n",
       "      <td>0.246476</td>\n",
       "      <td>(Violation_34)</td>\n",
       "    </tr>\n",
       "    <tr>\n",
       "      <th>6</th>\n",
       "      <td>0.240014</td>\n",
       "      <td>(Violation_38)</td>\n",
       "    </tr>\n",
       "    <tr>\n",
       "      <th>5</th>\n",
       "      <td>0.228790</td>\n",
       "      <td>(Violation_33)</td>\n",
       "    </tr>\n",
       "    <tr>\n",
       "      <th>2</th>\n",
       "      <td>0.225037</td>\n",
       "      <td>(Violation_35)</td>\n",
       "    </tr>\n",
       "    <tr>\n",
       "      <th>0</th>\n",
       "      <td>0.186452</td>\n",
       "      <td>(Violation_32)</td>\n",
       "    </tr>\n",
       "    <tr>\n",
       "      <th>4</th>\n",
       "      <td>0.161738</td>\n",
       "      <td>(Violation_55)</td>\n",
       "    </tr>\n",
       "    <tr>\n",
       "      <th>12</th>\n",
       "      <td>0.152230</td>\n",
       "      <td>(Violation_34, Violation_33)</td>\n",
       "    </tr>\n",
       "    <tr>\n",
       "      <th>11</th>\n",
       "      <td>0.146426</td>\n",
       "      <td>(Violation_35, Violation_34)</td>\n",
       "    </tr>\n",
       "    <tr>\n",
       "      <th>3</th>\n",
       "      <td>0.136131</td>\n",
       "      <td>(Violation_41)</td>\n",
       "    </tr>\n",
       "    <tr>\n",
       "      <th>14</th>\n",
       "      <td>0.131498</td>\n",
       "      <td>(Violation_35, Violation_33)</td>\n",
       "    </tr>\n",
       "    <tr>\n",
       "      <th>7</th>\n",
       "      <td>0.118181</td>\n",
       "      <td>(Violation_36)</td>\n",
       "    </tr>\n",
       "    <tr>\n",
       "      <th>8</th>\n",
       "      <td>0.113513</td>\n",
       "      <td>(Violation_34, Violation_32)</td>\n",
       "    </tr>\n",
       "    <tr>\n",
       "      <th>13</th>\n",
       "      <td>0.109088</td>\n",
       "      <td>(Violation_38, Violation_34)</td>\n",
       "    </tr>\n",
       "    <tr>\n",
       "      <th>9</th>\n",
       "      <td>0.107148</td>\n",
       "      <td>(Violation_35, Violation_32)</td>\n",
       "    </tr>\n",
       "    <tr>\n",
       "      <th>10</th>\n",
       "      <td>0.106734</td>\n",
       "      <td>(Violation_33, Violation_32)</td>\n",
       "    </tr>\n",
       "    <tr>\n",
       "      <th>15</th>\n",
       "      <td>0.103695</td>\n",
       "      <td>(Violation_38, Violation_35)</td>\n",
       "    </tr>\n",
       "    <tr>\n",
       "      <th>17</th>\n",
       "      <td>0.102459</td>\n",
       "      <td>(Violation_35, Violation_34, Violation_33)</td>\n",
       "    </tr>\n",
       "    <tr>\n",
       "      <th>16</th>\n",
       "      <td>0.100659</td>\n",
       "      <td>(Violation_38, Violation_33)</td>\n",
       "    </tr>\n",
       "  </tbody>\n",
       "</table>\n",
       "</div>"
      ]
     },
     "execution_count": 13,
     "metadata": {},
     "output_type": "execute_result"
    }
   ],
   "execution_count": 13
  },
  {
   "cell_type": "code",
   "id": "6c52dae4655bc93c",
   "metadata": {
    "ExecuteTime": {
     "end_time": "2025-04-21T14:31:47.226249Z",
     "start_time": "2025-04-21T14:31:47.213036Z"
    }
   },
   "source": [
    "# 从频繁项集生成关联规则\n",
    "violation_rules = association_rules(frequent_itemsets, metric=\"lift\", min_threshold=1.0)\n",
    "print(\"association rules between violations:\")\n",
    "if len(violation_rules) > 0:\n",
    "    sorted_rules = violation_rules.sort_values('lift', ascending=False)\n",
    "    for i, rule in sorted_rules.head(10).iterrows():\n",
    "        antecedent = \", \".join([item.replace('Violation_', 'violation') for item in list(rule['antecedents'])])\n",
    "        consequent = \", \".join([item.replace('Violation_', 'violation') for item in list(rule['consequents'])])\n",
    "        print(f\"{antecedent} => {consequent} (support: {rule['support']:.3f}, confidence: {rule['confidence']:.3f}, lift: {rule['lift']:.3f})\")\n",
    "else:\n",
    "    print(\"no association rules found\")"
   ],
   "outputs": [
    {
     "name": "stdout",
     "output_type": "stream",
     "text": [
      "association rules between violations:\n",
      "violation34 => violation35, violation33 (support: 0.102, confidence: 0.416, lift: 3.161)\n",
      "violation35, violation33 => violation34 (support: 0.102, confidence: 0.779, lift: 3.161)\n",
      "violation33 => violation35, violation34 (support: 0.102, confidence: 0.448, lift: 3.058)\n",
      "violation35, violation34 => violation33 (support: 0.102, confidence: 0.700, lift: 3.058)\n",
      "violation34, violation33 => violation35 (support: 0.102, confidence: 0.673, lift: 2.991)\n",
      "violation35 => violation34, violation33 (support: 0.102, confidence: 0.455, lift: 2.991)\n",
      "violation34 => violation33 (support: 0.152, confidence: 0.618, lift: 2.700)\n",
      "violation33 => violation34 (support: 0.152, confidence: 0.665, lift: 2.700)\n",
      "violation34 => violation35 (support: 0.146, confidence: 0.594, lift: 2.640)\n",
      "violation35 => violation34 (support: 0.146, confidence: 0.651, lift: 2.640)\n"
     ]
    }
   ],
   "execution_count": 14
  },
  {
   "cell_type": "markdown",
   "id": "7ec566cbe8c494c5",
   "metadata": {},
   "source": [
    "## find association rules between facility type, risk, and results"
   ]
  },
  {
   "cell_type": "code",
   "execution_count": null,
   "id": "ad55423566afef12",
   "metadata": {
    "ExecuteTime": {
     "end_time": "2025-03-29T08:36:06.037020Z",
     "start_time": "2025-03-29T08:36:05.446433Z"
    }
   },
   "outputs": [],
   "source": [
    "category_cols = [col for col in trans_df.columns if\n",
    "                 col.startswith('Facility_Type_') or\n",
    "                 col.startswith('Risk_') or\n",
    "                 col.startswith('Results_')]\n",
    "category_df = trans_df[category_cols]"
   ]
  },
  {
   "cell_type": "code",
   "execution_count": null,
   "id": "50e8b0ff7cde4e58",
   "metadata": {
    "ExecuteTime": {
     "end_time": "2025-03-29T08:36:45.056139Z",
     "start_time": "2025-03-29T08:36:43.931845Z"
    }
   },
   "outputs": [],
   "source": [
    "frequent_itemsets_cat = apriori(category_df, min_support=0.05, use_colnames=True)"
   ]
  },
  {
   "cell_type": "code",
   "execution_count": null,
   "id": "5816d5bc67495de5",
   "metadata": {
    "ExecuteTime": {
     "end_time": "2025-03-29T08:37:28.951411Z",
     "start_time": "2025-03-29T08:37:28.941023Z"
    }
   },
   "outputs": [],
   "source": [
    "frequent_itemsets_cat.sort_values(ascending=False, by= 'support')"
   ]
  },
  {
   "cell_type": "code",
   "execution_count": null,
   "id": "f799d8a6fc4173ac",
   "metadata": {
    "ExecuteTime": {
     "end_time": "2025-03-29T08:38:00.569916Z",
     "start_time": "2025-03-29T08:38:00.563550Z"
    }
   },
   "outputs": [],
   "source": [
    "category_rules = association_rules(frequent_itemsets_cat, metric=\"lift\", min_threshold=1.0)"
   ]
  },
  {
   "cell_type": "code",
   "execution_count": null,
   "id": "36bc7af035869fa6",
   "metadata": {
    "ExecuteTime": {
     "end_time": "2025-03-29T08:39:58.738036Z",
     "start_time": "2025-03-29T08:39:58.728158Z"
    }
   },
   "outputs": [],
   "source": [
    "print(\"\\nassociation rules between facility type, risk, and results\")\n",
    "if len(category_rules) > 0:\n",
    "    sorted_rules = category_rules.sort_values('lift', ascending=False)\n",
    "    for i, rule in sorted_rules.head(10).iterrows():\n",
    "        antecedent = \", \".join([item for item in list(rule['antecedents'])])\n",
    "        consequent = \", \".join([item for item in list(rule['consequents'])])\n",
    "        print(f\"{antecedent} => {consequent} (support: {rule['support']:.3f}, confidence: {rule['confidence']:.3f}, lift: {rule['lift']:.3f})\")\n",
    "else:\n",
    "    print(\"no association rules found\")"
   ]
  },
  {
   "cell_type": "markdown",
   "id": "4fba5642b40fa508",
   "metadata": {},
   "source": [
    "## association rules between facility and violation"
   ]
  },
  {
   "cell_type": "code",
   "execution_count": null,
   "id": "c148e48b215c5980",
   "metadata": {
    "ExecuteTime": {
     "end_time": "2025-03-29T08:53:49.549812Z",
     "start_time": "2025-03-29T08:53:48.504209Z"
    }
   },
   "outputs": [],
   "source": [
    "facility_violation_cols = [col for col in trans_df.columns if\n",
    "                           col.startswith('Facility_Type_') or\n",
    "                           col.startswith('Violation_')]\n",
    "facility_violation_df = trans_df[facility_violation_cols]"
   ]
  },
  {
   "cell_type": "code",
   "execution_count": null,
   "id": "80b17863a7061ead",
   "metadata": {
    "ExecuteTime": {
     "end_time": "2025-03-29T09:02:03.813971Z",
     "start_time": "2025-03-29T09:01:54.921500Z"
    }
   },
   "outputs": [],
   "source": [
    "frequent_itemsets_fv = apriori(facility_violation_df, min_support=0.02, use_colnames=True)"
   ]
  },
  {
   "cell_type": "code",
   "execution_count": null,
   "id": "a200dc7c710bdff9",
   "metadata": {
    "ExecuteTime": {
     "end_time": "2025-03-29T09:02:42.282199Z",
     "start_time": "2025-03-29T09:02:42.262459Z"
    }
   },
   "outputs": [],
   "source": [
    "frequent_itemsets_fv.sort_values(ascending=False, by= 'support')"
   ]
  },
  {
   "cell_type": "code",
   "execution_count": null,
   "id": "56c404ce7c4aa6ad",
   "metadata": {
    "ExecuteTime": {
     "end_time": "2025-03-29T09:09:03.757662Z",
     "start_time": "2025-03-29T09:09:03.745698Z"
    }
   },
   "outputs": [],
   "source": [
    "fv_rules = association_rules(frequent_itemsets_fv, metric=\"confidence\", min_threshold=0.05)\n"
   ]
  },
  {
   "cell_type": "code",
   "execution_count": null,
   "id": "84c2bdc35eb967ad",
   "metadata": {
    "ExecuteTime": {
     "end_time": "2025-03-29T09:09:04.572773Z",
     "start_time": "2025-03-29T09:09:04.550891Z"
    }
   },
   "outputs": [],
   "source": [
    "print(\"\\nassociation rules between facility and violation\")\n",
    "if len(fv_rules) > 0:\n",
    "    sorted_rules = fv_rules.sort_values('lift', ascending=False)\n",
    "    # 只选择从设施类型到违规代码的规则\n",
    "    facility_to_violation_rules = sorted_rules[sorted_rules['antecedents'].apply(lambda x: all('Facility_Type_' in item for item in x)) &\n",
    "                                               sorted_rules['consequents'].apply(lambda x: all('Violation_' in item for item in x))]\n",
    "\n",
    "    if len(facility_to_violation_rules) > 0:\n",
    "        for i, rule in facility_to_violation_rules.head(10).iterrows():\n",
    "            antecedent = \", \".join([item.replace('Facility_Type_', 'facility_type:') for item in list(rule['antecedents'])])\n",
    "            consequent = \", \".join([item.replace('Violation_', 'violation') for item in list(rule['consequents'])])\n",
    "            print(f\"{antecedent} => {consequent} (support: {rule['support']:.3f}, confidence: {rule['confidence']:.3f}, lift: {rule['lift']:.3f})\")\n",
    "    else:\n",
    "        print(\"no association rules between facility and violation found\")\n",
    "else:\n",
    "    print(\"no association rules between facility and violation\")"
   ]
  },
  {
   "cell_type": "code",
   "execution_count": null,
   "id": "7b94b833a0f08d30",
   "metadata": {
    "ExecuteTime": {
     "end_time": "2025-03-29T09:20:14.568518Z",
     "start_time": "2025-03-29T09:20:14.060567Z"
    }
   },
   "outputs": [],
   "source": [
    "if len(violation_rules) > 0:\n",
    "    plt.figure(figsize=(12, 10))\n",
    "    G = nx.DiGraph()\n",
    "\n",
    "    # 选择提升度最高的前20条规则\n",
    "    top_rules = violation_rules.sort_values('lift', ascending=False).head(20)\n",
    "\n",
    "    # 添加节点和边\n",
    "    for i, rule in top_rules.iterrows():\n",
    "        for item in rule['antecedents']:\n",
    "            G.add_node(item.replace('Violation_', 'violation'))\n",
    "        for item in rule['consequents']:\n",
    "            G.add_node(item.replace('Violation_', 'violation'))\n",
    "\n",
    "        for a_item in rule['antecedents']:\n",
    "            for c_item in rule['consequents']:\n",
    "                G.add_edge(a_item.replace('Violation_', 'violation'),\n",
    "                           c_item.replace('Violation_', 'violation'),\n",
    "                           weight=rule['lift'])\n",
    "\n",
    "    # 绘制网络图\n",
    "    pos = nx.spring_layout(G, seed=42)\n",
    "    edges = G.edges()\n",
    "    weights = [G[u][v]['weight'] * 2 for u, v in edges]\n",
    "\n",
    "    nx.draw(G, pos, with_labels=True, node_color='skyblue', node_size=2000,\n",
    "            font_size=10, font_weight='bold', edge_color='gray',\n",
    "            width=weights, edge_cmap=plt.cm.Blues, arrows=True,\n",
    "            connectionstyle='arc3,rad=0.1')\n",
    "\n",
    "    plt.title('network of high related violation codes')\n",
    "    plt.savefig('violation_association_network.png', dpi=300)\n",
    "    plt.show()\n",
    "\n"
   ]
  },
  {
   "cell_type": "markdown",
   "id": "476a08382add521f",
   "metadata": {},
   "source": [
    "# functional dependencies discovery"
   ]
  },
  {
   "cell_type": "markdown",
   "id": "632191028319573f",
   "metadata": {},
   "source": [
    "## TANE, based on https://github.com/codocedo/tane/blob/master/tane.py "
   ]
  },
  {
   "cell_type": "code",
   "id": "661e65f91d9554d8",
   "metadata": {
    "ExecuteTime": {
     "end_time": "2025-04-21T11:02:33.353835Z",
     "start_time": "2025-04-21T11:02:33.349296Z"
    }
   },
   "source": [
    "import pandas as pd\n",
    "import numpy as np\n",
    "import matplotlib.pyplot as plt\n",
    "import networkx as nx\n",
    "import time\n",
    "from collections import defaultdict\n",
    "from itertools import combinations\n",
    "import sys\n",
    "from tqdm import tqdm"
   ],
   "outputs": [],
   "execution_count": 3
  },
  {
   "cell_type": "code",
   "id": "9d72677ffb9278fe",
   "metadata": {
    "ExecuteTime": {
     "end_time": "2025-04-21T11:02:35.786611Z",
     "start_time": "2025-04-21T11:02:35.769545Z"
    }
   },
   "source": [
    "from tane import TANE, PPattern, read_db, tostr\n",
    "tane_imported = True"
   ],
   "outputs": [],
   "execution_count": 4
  },
  {
   "cell_type": "code",
   "id": "a042f02e17e0e844",
   "metadata": {
    "ExecuteTime": {
     "end_time": "2025-04-21T11:02:40.285850Z",
     "start_time": "2025-04-21T11:02:38.092575Z"
    }
   },
   "source": [
    "#url = \"https://data.cityofchicago.org/api/views/4ijn-s7e5/rows.csv?accessType=DOWNLOAD\"\n",
    "\n",
    "df = pd.read_csv('cleaned_dataset_for_FD.csv')\n",
    "df.info()"
   ],
   "outputs": [
    {
     "name": "stdout",
     "output_type": "stream",
     "text": [
      "<class 'pandas.core.frame.DataFrame'>\n",
      "RangeIndex: 287237 entries, 0 to 287236\n",
      "Data columns (total 18 columns):\n",
      " #   Column           Non-Null Count   Dtype  \n",
      "---  ------           --------------   -----  \n",
      " 0   inspection_id    287237 non-null  int64  \n",
      " 1   dba_name         287237 non-null  object \n",
      " 2   aka_name         287237 non-null  object \n",
      " 3   license_num      287219 non-null  float64\n",
      " 4   facility_type    282040 non-null  object \n",
      " 5   risk             287237 non-null  object \n",
      " 6   address          287237 non-null  object \n",
      " 7   city             287237 non-null  object \n",
      " 8   state            287237 non-null  object \n",
      " 9   inspection_date  287237 non-null  object \n",
      " 10  inspection_type  287236 non-null  object \n",
      " 11  results          287237 non-null  object \n",
      " 12  violations       207585 non-null  object \n",
      " 13  latitude         287066 non-null  float64\n",
      " 14  longitude        287066 non-null  float64\n",
      " 15  location         287066 non-null  object \n",
      " 16  zip              287198 non-null  float64\n",
      " 17  zip_valid        287237 non-null  bool   \n",
      "dtypes: bool(1), float64(4), int64(1), object(12)\n",
      "memory usage: 37.5+ MB\n"
     ]
    }
   ],
   "execution_count": 5
  },
  {
   "cell_type": "code",
   "id": "cb3bd1f9272bda66",
   "metadata": {
    "ExecuteTime": {
     "end_time": "2025-04-21T11:02:44.856546Z",
     "start_time": "2025-04-21T11:02:44.272788Z"
    }
   },
   "source": [
    "columns_to_exclude = ['violations']\n",
    "# Select subset of columns to speed up algorithm\n",
    "df_analysis = df.drop(columns=columns_to_exclude)\n",
    "df_analysis = df_analysis.dropna()\n",
    "float_cols = df.select_dtypes(include=[\"float64\"]).columns\n",
    "df[float_cols] = df[float_cols].astype(str)"
   ],
   "outputs": [],
   "execution_count": 6
  },
  {
   "cell_type": "code",
   "id": "f3c46fd0e391390",
   "metadata": {
    "ExecuteTime": {
     "end_time": "2025-04-21T11:03:29.716869Z",
     "start_time": "2025-04-21T11:03:29.695357Z"
    }
   },
   "source": [
    "sample_size = 10000  # Adjust as needed\n",
    "if len(df_analysis) > sample_size:\n",
    "    print(f\"Using {sample_size} random sample rows to speed up processing...\")\n",
    "    df_sample = df_analysis.sample(sample_size, random_state=42)\n",
    "else:\n",
    "    df_sample = df_analysis"
   ],
   "outputs": [
    {
     "name": "stdout",
     "output_type": "stream",
     "text": [
      "Using 10000 random sample rows to speed up processing...\n"
     ]
    }
   ],
   "execution_count": 14
  },
  {
   "cell_type": "code",
   "id": "cb4bcccaa59b1eba",
   "metadata": {
    "ExecuteTime": {
     "end_time": "2025-04-21T11:02:53.150702Z",
     "start_time": "2025-04-21T11:02:53.146087Z"
    }
   },
   "source": [
    "def convert_to_tane_input(df):\n",
    "    \"\"\"\n",
    "    Convert pandas DataFrame to TANE input format (list of stripped partitions)\n",
    "    \"\"\"\n",
    "    partitions = []\n",
    "    for col_idx in range(df.shape[1]):\n",
    "        # Group records by column values\n",
    "        value_dict = {}\n",
    "        for row_idx, value in enumerate(df.iloc[:, col_idx]):\n",
    "            if value not in value_dict:\n",
    "                value_dict[value] = set()\n",
    "            value_dict[value].add(row_idx)\n",
    "\n",
    "        # Keep only partitions with more than one row\n",
    "        partition = [indices for indices in value_dict.values() if len(indices) > 1]\n",
    "\n",
    "        # If PPattern is available, use its fix_desc method\n",
    "        if 'PPattern' in globals():\n",
    "            partition = PPattern.fix_desc(partition)\n",
    "\n",
    "        partitions.append(partition)\n",
    "\n",
    "    return partitions"
   ],
   "outputs": [],
   "execution_count": 8
  },
  {
   "cell_type": "code",
   "id": "1650e5e2809b8ff5",
   "metadata": {
    "ExecuteTime": {
     "end_time": "2025-04-21T11:02:56.704156Z",
     "start_time": "2025-04-21T11:02:56.699107Z"
    }
   },
   "source": [
    "def run_tane_via_module(df):\n",
    "    \"\"\"\n",
    "    Run TANE algorithm by directly using the imported module\n",
    "    \"\"\"\n",
    "    # Convert data to TANE format\n",
    "    tane_input = convert_to_tane_input(df)\n",
    "\n",
    "    # Create TANE instance and run\n",
    "    tane_instance = TANE(tane_input)\n",
    "    start_time = time.time()\n",
    "    tane_instance.run()\n",
    "    end_time = time.time()\n",
    "\n",
    "    # Get results and convert to tuple format with column names\n",
    "    dependencies = []\n",
    "    for lhs, rhs in tane_instance.rules:\n",
    "        # Convert attribute indices to column names\n",
    "        if isinstance(lhs, tuple):\n",
    "            lhs_cols = tuple(df.columns[i] for i in lhs)\n",
    "        else:\n",
    "            lhs_cols = df.columns[lhs]\n",
    "        rhs_col = df.columns[rhs]\n",
    "\n",
    "        # Calculate dependency strength (always 1.0 for TANE as it finds exact dependencies)\n",
    "        dependencies.append((lhs_cols, rhs_col, 1.0))\n",
    "\n",
    "    return dependencies, end_time - start_time"
   ],
   "outputs": [],
   "execution_count": 9
  },
  {
   "cell_type": "code",
   "id": "d872c23d09bde1b0",
   "metadata": {
    "ExecuteTime": {
     "end_time": "2025-04-21T11:03:00.195596Z",
     "start_time": "2025-04-21T11:03:00.187481Z"
    }
   },
   "source": [
    "def visualize_dependencies(deps, title):\n",
    "    \"\"\"\n",
    "    Visualize discovered functional dependencies as a network graph\n",
    "    \"\"\"\n",
    "    print(f\"\\nVisualizing {len(deps)} functional dependencies...\")\n",
    "\n",
    "    G = nx.DiGraph()\n",
    "\n",
    "    # Create nodes and edges\n",
    "    for lhs, rhs, strength in deps:\n",
    "        # Handle both single attribute and multi-attribute LHS\n",
    "        if isinstance(lhs, tuple):\n",
    "            # For multiple attributes on LHS, create a combined node\n",
    "            lhs_label = \" + \".join(str(attr) for attr in lhs)\n",
    "            G.add_node(lhs_label, shape='box', style='filled', fillcolor='lightblue')\n",
    "\n",
    "            # Also add individual attribute nodes and connect them to the combined node\n",
    "            for attr in lhs:\n",
    "                if attr not in G:\n",
    "                    G.add_node(attr, shape='ellipse')\n",
    "                G.add_edge(attr, lhs_label, style='dashed', weight=0.5)\n",
    "\n",
    "            # Connect the combined node to RHS\n",
    "            G.add_edge(lhs_label, rhs, width=strength*3, weight=strength, label=f\"{strength:.2f}\")\n",
    "        else:\n",
    "            # For single attribute, connect directly\n",
    "            if lhs not in G:\n",
    "                G.add_node(lhs, shape='ellipse')\n",
    "            if rhs not in G:\n",
    "                G.add_node(rhs, shape='ellipse')\n",
    "            G.add_edge(lhs, rhs, width=strength*3, weight=strength, label=f\"{strength:.2f}\")\n",
    "\n",
    "    # Draw the graph\n",
    "    plt.figure(figsize=(12, 10))\n",
    "    pos = nx.spring_layout(G, k=0.8, iterations=100)\n",
    "\n",
    "    # Draw nodes\n",
    "    node_shapes = nx.get_node_attributes(G, 'shape')\n",
    "    for shape in set(node_shapes.values()):\n",
    "        nodes = [node for node, s in node_shapes.items() if s == shape]\n",
    "        if shape == 'box':\n",
    "            nx.draw_networkx_nodes(G, pos, nodelist=nodes, node_color='lightblue',\n",
    "                                   node_size=3000, node_shape='s')\n",
    "        else:\n",
    "            nx.draw_networkx_nodes(G, pos, nodelist=nodes, node_color='lightgreen',\n",
    "                                   node_size=2000, node_shape='o')\n",
    "\n",
    "    # Draw edges\n",
    "    edge_widths = [G[u][v].get('width', 1) for u, v in G.edges()]\n",
    "    edge_styles = [G[u][v].get('style', 'solid') for u, v in G.edges()]\n",
    "\n",
    "    solid_edges = [(u, v) for (u, v), style in zip(G.edges(), edge_styles) if style == 'solid']\n",
    "    dashed_edges = [(u, v) for (u, v), style in zip(G.edges(), edge_styles) if style == 'dashed']\n",
    "\n",
    "    if solid_edges:\n",
    "        nx.draw_networkx_edges(G, pos, edgelist=solid_edges, width=edge_widths[:len(solid_edges)])\n",
    "    if dashed_edges:\n",
    "        nx.draw_networkx_edges(G, pos, edgelist=dashed_edges, width=1, style='dashed')\n",
    "\n",
    "    # Draw labels\n",
    "    nx.draw_networkx_labels(G, pos, font_size=10, font_family='SimHei')\n",
    "\n",
    "    plt.title(title)\n",
    "    plt.axis('off')\n",
    "    plt.tight_layout()\n",
    "\n",
    "    # Save figure\n",
    "    plt.savefig(f'{title.replace(\" \", \"_\")}.png', dpi=300)\n",
    "    plt.show()"
   ],
   "outputs": [],
   "execution_count": 10
  },
  {
   "cell_type": "code",
   "id": "87ac9fe0eba2e87e",
   "metadata": {
    "ExecuteTime": {
     "end_time": "2025-04-21T11:03:03.288909Z",
     "start_time": "2025-04-21T11:03:03.279590Z"
    }
   },
   "source": [
    "def analyze_important_columns(deps, important_columns=None):\n",
    "    \"\"\"\n",
    "    Analyze dependencies for important columns\n",
    "    \"\"\"\n",
    "    print(\"\\n========= Important Attribute Dependency Analysis =========\")\n",
    "\n",
    "    if important_columns is None:\n",
    "        # If not specified, analyze the 5 most active columns\n",
    "        column_involvement = defaultdict(int)\n",
    "        for X, Y, _ in deps:\n",
    "            if isinstance(X, tuple):\n",
    "                for x in X:\n",
    "                    column_involvement[x] += 1\n",
    "            else:\n",
    "                column_involvement[X] += 1\n",
    "            column_involvement[Y] += 1\n",
    "\n",
    "        important_columns = [col for col, _ in sorted(column_involvement.items(),\n",
    "                                                      key=lambda x: x[1], reverse=True)[:5]]\n",
    "\n",
    "    for col in important_columns:\n",
    "        # As determining attribute\n",
    "        determined = []\n",
    "        for X, Y, strength in deps:\n",
    "            if isinstance(X, tuple) and col in X:\n",
    "                determined.append((X, Y, strength))\n",
    "            elif X == col:\n",
    "                determined.append((X, Y, strength))\n",
    "\n",
    "        if determined:\n",
    "            print(f\"\\nAttribute '{col}' helps determine these attributes:\")\n",
    "            for X, Y, strength in sorted(determined, key=lambda x: x[2], reverse=True):\n",
    "                print(f\"  {X} → {Y} (strength: {strength:.4f})\")\n",
    "\n",
    "        # As determined attribute\n",
    "        determining = [(X, Y, strength) for X, Y, strength in deps if Y == col]\n",
    "        if determining:\n",
    "            print(f\"\\nThese attributes determine '{col}':\")\n",
    "            for X, Y, strength in sorted(determining, key=lambda x: x[2], reverse=True):\n",
    "                print(f\"  {X} → {Y} (strength: {strength:.4f})\")"
   ],
   "outputs": [],
   "execution_count": 11
  },
  {
   "cell_type": "code",
   "id": "2bbd41fefe787127",
   "metadata": {
    "jupyter": {
     "is_executing": true
    },
    "ExecuteTime": {
     "start_time": "2025-04-21T11:03:35.385092Z"
    }
   },
   "source": [
    "# 运行TANE算法\n",
    "print(\"Running TANE via direct module import...\")\n",
    "start = time.time()\n",
    "dependencies, runtime = run_tane_via_module(df_sample)\n",
    "print(f\"\\nTANE algorithm runtime: {runtime:.2f} seconds\")\n",
    "print(f\"Total functional dependencies discovered: {len(dependencies)}\")"
   ],
   "outputs": [
    {
     "name": "stdout",
     "output_type": "stream",
     "text": [
      "Running TANE via direct module import...\n"
     ]
    }
   ],
   "execution_count": null
  },
  {
   "cell_type": "code",
   "id": "da138fb130cec529",
   "metadata": {
    "ExecuteTime": {
     "end_time": "2025-04-21T11:03:13.651142Z",
     "start_time": "2025-04-21T11:03:13.639570Z"
    }
   },
   "source": [
    "# 打印部分发现的依赖关系\n",
    "if dependencies:\n",
    "    print(\"\\nSome functional dependencies discovered by TANE algorithm:\")\n",
    "    for dep in sorted(dependencies, key=lambda x: x[2], reverse=True)[:15]:\n",
    "        X_str = str(dep[0])\n",
    "        print(f\"{X_str} → {dep[1]} (strength: {dep[2]:.4f})\")"
   ],
   "outputs": [
    {
     "name": "stdout",
     "output_type": "stream",
     "text": [
      "\n",
      "Some functional dependencies discovered by TANE algorithm:\n",
      "('inspection_id',) → dba_name (strength: 1.0000)\n",
      "('inspection_id',) → aka_name (strength: 1.0000)\n",
      "('inspection_id',) → license_num (strength: 1.0000)\n",
      "('inspection_id',) → facility_type (strength: 1.0000)\n",
      "('inspection_id',) → risk (strength: 1.0000)\n",
      "('inspection_id',) → address (strength: 1.0000)\n",
      "('inspection_id',) → city (strength: 1.0000)\n",
      "('inspection_id',) → state (strength: 1.0000)\n",
      "('inspection_id',) → inspection_date (strength: 1.0000)\n",
      "('inspection_id',) → inspection_type (strength: 1.0000)\n",
      "('inspection_id',) → results (strength: 1.0000)\n",
      "('inspection_id',) → latitude (strength: 1.0000)\n",
      "('inspection_id',) → longitude (strength: 1.0000)\n",
      "('inspection_id',) → location (strength: 1.0000)\n",
      "('inspection_id',) → zip (strength: 1.0000)\n"
     ]
    }
   ],
   "execution_count": 13
  },
  {
   "cell_type": "code",
   "execution_count": 45,
   "id": "277f27c87f48e3c2",
   "metadata": {
    "ExecuteTime": {
     "end_time": "2025-03-31T04:59:30.406039Z",
     "start_time": "2025-03-31T04:59:29.776308Z"
    }
   },
   "outputs": [
    {
     "name": "stdout",
     "output_type": "stream",
     "text": [
      "\n",
      "Visualizing 39 functional dependencies...\n"
     ]
    },
    {
     "name": "stderr",
     "output_type": "stream",
     "text": [
      "findfont: Font family 'SimHei' not found.\n",
      "findfont: Font family 'SimHei' not found.\n",
      "findfont: Font family 'SimHei' not found.\n",
      "findfont: Font family 'SimHei' not found.\n",
      "findfont: Font family 'SimHei' not found.\n",
      "findfont: Font family 'SimHei' not found.\n",
      "findfont: Font family 'SimHei' not found.\n",
      "findfont: Font family 'SimHei' not found.\n",
      "findfont: Font family 'SimHei' not found.\n",
      "findfont: Font family 'SimHei' not found.\n",
      "findfont: Font family 'SimHei' not found.\n",
      "findfont: Font family 'SimHei' not found.\n",
      "findfont: Font family 'SimHei' not found.\n",
      "findfont: Font family 'SimHei' not found.\n",
      "findfont: Font family 'SimHei' not found.\n",
      "findfont: Font family 'SimHei' not found.\n",
      "findfont: Font family 'SimHei' not found.\n",
      "findfont: Font family 'SimHei' not found.\n",
      "findfont: Font family 'SimHei' not found.\n",
      "findfont: Font family 'SimHei' not found.\n",
      "findfont: Font family 'SimHei' not found.\n",
      "findfont: Font family 'SimHei' not found.\n",
      "findfont: Font family 'SimHei' not found.\n",
      "findfont: Font family 'SimHei' not found.\n",
      "findfont: Font family 'SimHei' not found.\n",
      "findfont: Font family 'SimHei' not found.\n",
      "findfont: Font family 'SimHei' not found.\n",
      "findfont: Font family 'SimHei' not found.\n",
      "findfont: Font family 'SimHei' not found.\n",
      "findfont: Font family 'SimHei' not found.\n",
      "findfont: Font family 'SimHei' not found.\n",
      "findfont: Font family 'SimHei' not found.\n",
      "findfont: Font family 'SimHei' not found.\n",
      "findfont: Font family 'SimHei' not found.\n",
      "findfont: Font family 'SimHei' not found.\n",
      "findfont: Font family 'SimHei' not found.\n",
      "findfont: Font family 'SimHei' not found.\n",
      "findfont: Font family 'SimHei' not found.\n",
      "findfont: Font family 'SimHei' not found.\n",
      "findfont: Font family 'SimHei' not found.\n",
      "findfont: Font family 'SimHei' not found.\n",
      "findfont: Font family 'SimHei' not found.\n",
      "findfont: Font family 'SimHei' not found.\n",
      "findfont: Font family 'SimHei' not found.\n",
      "findfont: Font family 'SimHei' not found.\n",
      "findfont: Font family 'SimHei' not found.\n",
      "findfont: Font family 'SimHei' not found.\n",
      "findfont: Font family 'SimHei' not found.\n",
      "findfont: Font family 'SimHei' not found.\n",
      "findfont: Font family 'SimHei' not found.\n",
      "findfont: Font family 'SimHei' not found.\n",
      "findfont: Font family 'SimHei' not found.\n",
      "findfont: Font family 'SimHei' not found.\n",
      "findfont: Font family 'SimHei' not found.\n",
      "findfont: Font family 'SimHei' not found.\n",
      "findfont: Font family 'SimHei' not found.\n",
      "findfont: Font family 'SimHei' not found.\n",
      "findfont: Font family 'SimHei' not found.\n",
      "findfont: Font family 'SimHei' not found.\n",
      "findfont: Font family 'SimHei' not found.\n",
      "findfont: Font family 'SimHei' not found.\n",
      "findfont: Font family 'SimHei' not found.\n",
      "findfont: Font family 'SimHei' not found.\n",
      "findfont: Font family 'SimHei' not found.\n",
      "findfont: Font family 'SimHei' not found.\n",
      "findfont: Font family 'SimHei' not found.\n",
      "findfont: Font family 'SimHei' not found.\n",
      "findfont: Font family 'SimHei' not found.\n",
      "findfont: Font family 'SimHei' not found.\n",
      "findfont: Font family 'SimHei' not found.\n",
      "findfont: Font family 'SimHei' not found.\n",
      "findfont: Font family 'SimHei' not found.\n",
      "findfont: Font family 'SimHei' not found.\n",
      "findfont: Font family 'SimHei' not found.\n",
      "findfont: Font family 'SimHei' not found.\n",
      "findfont: Font family 'SimHei' not found.\n",
      "findfont: Font family 'SimHei' not found.\n",
      "findfont: Font family 'SimHei' not found.\n",
      "findfont: Font family 'SimHei' not found.\n",
      "findfont: Font family 'SimHei' not found.\n",
      "findfont: Font family 'SimHei' not found.\n",
      "findfont: Font family 'SimHei' not found.\n",
      "findfont: Font family 'SimHei' not found.\n",
      "findfont: Font family 'SimHei' not found.\n",
      "findfont: Font family 'SimHei' not found.\n",
      "findfont: Font family 'SimHei' not found.\n",
      "findfont: Font family 'SimHei' not found.\n",
      "findfont: Font family 'SimHei' not found.\n",
      "findfont: Font family 'SimHei' not found.\n",
      "findfont: Font family 'SimHei' not found.\n",
      "findfont: Font family 'SimHei' not found.\n",
      "findfont: Font family 'SimHei' not found.\n",
      "findfont: Font family 'SimHei' not found.\n",
      "findfont: Font family 'SimHei' not found.\n",
      "findfont: Font family 'SimHei' not found.\n",
      "findfont: Font family 'SimHei' not found.\n",
      "findfont: Font family 'SimHei' not found.\n",
      "findfont: Font family 'SimHei' not found.\n",
      "findfont: Font family 'SimHei' not found.\n",
      "findfont: Font family 'SimHei' not found.\n",
      "findfont: Font family 'SimHei' not found.\n",
      "findfont: Font family 'SimHei' not found.\n",
      "findfont: Font family 'SimHei' not found.\n",
      "findfont: Font family 'SimHei' not found.\n",
      "findfont: Font family 'SimHei' not found.\n",
      "findfont: Font family 'SimHei' not found.\n",
      "findfont: Font family 'SimHei' not found.\n",
      "findfont: Font family 'SimHei' not found.\n",
      "findfont: Font family 'SimHei' not found.\n",
      "findfont: Font family 'SimHei' not found.\n",
      "findfont: Font family 'SimHei' not found.\n",
      "findfont: Font family 'SimHei' not found.\n",
      "findfont: Font family 'SimHei' not found.\n",
      "findfont: Font family 'SimHei' not found.\n",
      "findfont: Font family 'SimHei' not found.\n",
      "findfont: Font family 'SimHei' not found.\n",
      "findfont: Font family 'SimHei' not found.\n",
      "findfont: Font family 'SimHei' not found.\n",
      "findfont: Font family 'SimHei' not found.\n",
      "findfont: Font family 'SimHei' not found.\n",
      "findfont: Font family 'SimHei' not found.\n",
      "findfont: Font family 'SimHei' not found.\n",
      "findfont: Font family 'SimHei' not found.\n",
      "findfont: Font family 'SimHei' not found.\n",
      "findfont: Font family 'SimHei' not found.\n",
      "findfont: Font family 'SimHei' not found.\n",
      "findfont: Font family 'SimHei' not found.\n",
      "findfont: Font family 'SimHei' not found.\n",
      "findfont: Font family 'SimHei' not found.\n",
      "findfont: Font family 'SimHei' not found.\n",
      "findfont: Font family 'SimHei' not found.\n",
      "findfont: Font family 'SimHei' not found.\n",
      "findfont: Font family 'SimHei' not found.\n",
      "findfont: Font family 'SimHei' not found.\n",
      "findfont: Font family 'SimHei' not found.\n",
      "findfont: Font family 'SimHei' not found.\n",
      "findfont: Font family 'SimHei' not found.\n",
      "findfont: Font family 'SimHei' not found.\n",
      "findfont: Font family 'SimHei' not found.\n",
      "findfont: Font family 'SimHei' not found.\n",
      "findfont: Font family 'SimHei' not found.\n",
      "findfont: Font family 'SimHei' not found.\n",
      "findfont: Font family 'SimHei' not found.\n",
      "findfont: Font family 'SimHei' not found.\n",
      "findfont: Font family 'SimHei' not found.\n",
      "findfont: Font family 'SimHei' not found.\n",
      "findfont: Font family 'SimHei' not found.\n",
      "findfont: Font family 'SimHei' not found.\n",
      "findfont: Font family 'SimHei' not found.\n",
      "findfont: Font family 'SimHei' not found.\n",
      "findfont: Font family 'SimHei' not found.\n",
      "findfont: Font family 'SimHei' not found.\n",
      "findfont: Font family 'SimHei' not found.\n",
      "findfont: Font family 'SimHei' not found.\n",
      "findfont: Font family 'SimHei' not found.\n",
      "findfont: Font family 'SimHei' not found.\n",
      "findfont: Font family 'SimHei' not found.\n",
      "findfont: Font family 'SimHei' not found.\n",
      "findfont: Font family 'SimHei' not found.\n",
      "findfont: Font family 'SimHei' not found.\n",
      "findfont: Font family 'SimHei' not found.\n",
      "findfont: Font family 'SimHei' not found.\n",
      "findfont: Font family 'SimHei' not found.\n",
      "findfont: Font family 'SimHei' not found.\n",
      "findfont: Font family 'SimHei' not found.\n",
      "findfont: Font family 'SimHei' not found.\n",
      "findfont: Font family 'SimHei' not found.\n",
      "findfont: Font family 'SimHei' not found.\n",
      "findfont: Font family 'SimHei' not found.\n",
      "findfont: Font family 'SimHei' not found.\n",
      "findfont: Font family 'SimHei' not found.\n",
      "findfont: Font family 'SimHei' not found.\n",
      "findfont: Font family 'SimHei' not found.\n",
      "findfont: Font family 'SimHei' not found.\n",
      "findfont: Font family 'SimHei' not found.\n",
      "findfont: Font family 'SimHei' not found.\n",
      "findfont: Font family 'SimHei' not found.\n",
      "findfont: Font family 'SimHei' not found.\n",
      "findfont: Font family 'SimHei' not found.\n",
      "findfont: Font family 'SimHei' not found.\n",
      "findfont: Font family 'SimHei' not found.\n",
      "findfont: Font family 'SimHei' not found.\n",
      "findfont: Font family 'SimHei' not found.\n",
      "findfont: Font family 'SimHei' not found.\n",
      "findfont: Font family 'SimHei' not found.\n",
      "findfont: Font family 'SimHei' not found.\n",
      "findfont: Font family 'SimHei' not found.\n",
      "findfont: Font family 'SimHei' not found.\n",
      "findfont: Font family 'SimHei' not found.\n",
      "findfont: Font family 'SimHei' not found.\n",
      "findfont: Font family 'SimHei' not found.\n",
      "findfont: Font family 'SimHei' not found.\n",
      "findfont: Font family 'SimHei' not found.\n",
      "findfont: Font family 'SimHei' not found.\n",
      "findfont: Font family 'SimHei' not found.\n"
     ]
    },
    {
     "data": {
      "image/png": "[encoded data removed]",
      "text/plain": [
       "<Figure size 1200x1000 with 1 Axes>"
      ]
     },
     "metadata": {},
     "output_type": "display_data"
    }
   ],
   "source": [
    "# 可视化依赖关系\n",
    "if dependencies:\n",
    "    visualize_dependencies(dependencies, \"TANE Functional Dependencies\")"
   ]
  },
  {
   "cell_type": "code",
   "execution_count": 46,
   "id": "ad3ce616368b2eac",
   "metadata": {
    "ExecuteTime": {
     "end_time": "2025-03-31T04:59:50.300146Z",
     "start_time": "2025-03-31T04:59:50.281103Z"
    }
   },
   "outputs": [
    {
     "name": "stdout",
     "output_type": "stream",
     "text": [
      "\n",
      "========= Important Attribute Dependency Analysis =========\n",
      "\n",
      "Attribute 'Inspection ID' helps determine these attributes:\n",
      "  ('Inspection ID',) → DBA Name (strength: 1.0000)\n",
      "  ('Inspection ID',) → AKA Name (strength: 1.0000)\n",
      "  ('Inspection ID',) → License # (strength: 1.0000)\n",
      "  ('Inspection ID',) → Facility Type (strength: 1.0000)\n",
      "  ('Inspection ID',) → Risk (strength: 1.0000)\n",
      "  ('Inspection ID',) → City (strength: 1.0000)\n",
      "  ('Inspection ID',) → State (strength: 1.0000)\n",
      "  ('Inspection ID',) → Zip (strength: 1.0000)\n",
      "  ('Inspection ID',) → Inspection Type (strength: 1.0000)\n",
      "  ('Inspection ID',) → Results (strength: 1.0000)\n",
      "\n",
      "Attribute 'License #' helps determine these attributes:\n",
      "  ('License #',) → State (strength: 1.0000)\n",
      "  ('DBA Name', 'License #') → City (strength: 1.0000)\n",
      "  ('AKA Name', 'License #') → City (strength: 1.0000)\n",
      "  ('License #', 'Facility Type') → City (strength: 1.0000)\n",
      "  ('License #', 'Zip') → City (strength: 1.0000)\n",
      "  ('AKA Name', 'License #', 'Results') → Risk (strength: 1.0000)\n",
      "  ('DBA Name', 'License #', 'Inspection Type') → Zip (strength: 1.0000)\n",
      "  ('DBA Name', 'AKA Name', 'License #') → Facility Type (strength: 1.0000)\n",
      "  ('DBA Name', 'License #', 'Results') → Risk (strength: 1.0000)\n",
      "  ('AKA Name', 'License #', 'Zip') → Facility Type (strength: 1.0000)\n",
      "  ('AKA Name', 'License #', 'Results') → Facility Type (strength: 1.0000)\n",
      "  ('AKA Name', 'License #', 'Results') → Zip (strength: 1.0000)\n",
      "  ('DBA Name', 'License #', 'Results') → Zip (strength: 1.0000)\n",
      "  ('AKA Name', 'License #', 'Risk') → Facility Type (strength: 1.0000)\n",
      "  ('AKA Name', 'License #', 'Facility Type') → Risk (strength: 1.0000)\n",
      "  ('License #', 'Inspection Type', 'Results') → City (strength: 1.0000)\n",
      "  ('DBA Name', 'AKA Name', 'License #') → Risk (strength: 1.0000)\n",
      "  ('AKA Name', 'License #', 'Zip') → Risk (strength: 1.0000)\n",
      "  ('AKA Name', 'License #', 'Facility Type', 'Inspection Type') → Zip (strength: 1.0000)\n",
      "  ('AKA Name', 'License #', 'Risk', 'Inspection Type') → Zip (strength: 1.0000)\n",
      "  ('License #', 'Facility Type', 'Zip', 'Results') → Risk (strength: 1.0000)\n",
      "\n",
      "These attributes determine 'License #':\n",
      "  ('Inspection ID',) → License # (strength: 1.0000)\n",
      "\n",
      "Attribute 'Facility Type' helps determine these attributes:\n",
      "  ('License #', 'Facility Type') → City (strength: 1.0000)\n",
      "  ('AKA Name', 'License #', 'Facility Type') → Risk (strength: 1.0000)\n",
      "  ('DBA Name', 'Facility Type', 'Results') → City (strength: 1.0000)\n",
      "  ('AKA Name', 'License #', 'Facility Type', 'Inspection Type') → Zip (strength: 1.0000)\n",
      "  ('License #', 'Facility Type', 'Zip', 'Results') → Risk (strength: 1.0000)\n",
      "  ('AKA Name', 'Facility Type', 'Inspection Type', 'Results') → City (strength: 1.0000)\n",
      "\n",
      "These attributes determine 'Facility Type':\n",
      "  ('Inspection ID',) → Facility Type (strength: 1.0000)\n",
      "  ('DBA Name', 'AKA Name', 'License #') → Facility Type (strength: 1.0000)\n",
      "  ('AKA Name', 'License #', 'Zip') → Facility Type (strength: 1.0000)\n",
      "  ('AKA Name', 'License #', 'Results') → Facility Type (strength: 1.0000)\n",
      "  ('AKA Name', 'License #', 'Risk') → Facility Type (strength: 1.0000)\n",
      "\n",
      "Attribute 'Risk' helps determine these attributes:\n",
      "  ('AKA Name', 'License #', 'Risk') → Facility Type (strength: 1.0000)\n",
      "  ('DBA Name', 'Risk', 'Results') → City (strength: 1.0000)\n",
      "  ('AKA Name', 'License #', 'Risk', 'Inspection Type') → Zip (strength: 1.0000)\n",
      "\n",
      "These attributes determine 'Risk':\n",
      "  ('Inspection ID',) → Risk (strength: 1.0000)\n",
      "  ('AKA Name', 'License #', 'Results') → Risk (strength: 1.0000)\n",
      "  ('DBA Name', 'License #', 'Results') → Risk (strength: 1.0000)\n",
      "  ('AKA Name', 'License #', 'Facility Type') → Risk (strength: 1.0000)\n",
      "  ('DBA Name', 'AKA Name', 'License #') → Risk (strength: 1.0000)\n",
      "  ('AKA Name', 'License #', 'Zip') → Risk (strength: 1.0000)\n",
      "  ('License #', 'Facility Type', 'Zip', 'Results') → Risk (strength: 1.0000)\n",
      "\n",
      "Attribute 'Results' helps determine these attributes:\n",
      "  ('AKA Name', 'License #', 'Results') → Risk (strength: 1.0000)\n",
      "  ('DBA Name', 'AKA Name', 'Results') → City (strength: 1.0000)\n",
      "  ('DBA Name', 'License #', 'Results') → Risk (strength: 1.0000)\n",
      "  ('DBA Name', 'Zip', 'Results') → City (strength: 1.0000)\n",
      "  ('AKA Name', 'License #', 'Results') → Facility Type (strength: 1.0000)\n",
      "  ('AKA Name', 'License #', 'Results') → Zip (strength: 1.0000)\n",
      "  ('DBA Name', 'License #', 'Results') → Zip (strength: 1.0000)\n",
      "  ('License #', 'Inspection Type', 'Results') → City (strength: 1.0000)\n",
      "  ('DBA Name', 'Risk', 'Results') → City (strength: 1.0000)\n",
      "  ('DBA Name', 'Facility Type', 'Results') → City (strength: 1.0000)\n",
      "  ('AKA Name', 'Zip', 'Results') → City (strength: 1.0000)\n",
      "  ('License #', 'Facility Type', 'Zip', 'Results') → Risk (strength: 1.0000)\n",
      "  ('AKA Name', 'Facility Type', 'Inspection Type', 'Results') → City (strength: 1.0000)\n",
      "\n",
      "These attributes determine 'Results':\n",
      "  ('Inspection ID',) → Results (strength: 1.0000)\n",
      "\n",
      "Execution Time: 0.00 seconds\n"
     ]
    }
   ],
   "source": [
    "# 分析重要列\n",
    "if dependencies:\n",
    "    important_columns = ['Inspection ID', 'License #', 'Facility Type', 'Risk', 'Results']\n",
    "    analyze_important_columns(dependencies, important_columns)\n",
    "else:\n",
    "    print(\"No functional dependencies discovered or unable to parse results.\")"
   ]
  },
  {
   "cell_type": "markdown",
   "id": "9858505591eda614",
   "metadata": {},
   "source": [
    "## Approximate FD\n",
    "\n"
   ]
  },
  {
   "metadata": {},
   "cell_type": "markdown",
   "source": [
    "import pandas as pd\n",
    "\n",
    "data = pd.DataFrame({\n",
    "    'Dept': ['Sales', 'Sales', 'Sales', 'Finance', 'Finance'],\n",
    "    'Manager': ['Alice', 'Alice', 'Bob', 'Claire', 'Claire'],\n",
    "    'ID': [1, 2, 3, 4, 5]\n",
    "})\n",
    "from openclean.pipeline import stream\n",
    "\n",
    "ds = stream(data)\n"
   ],
   "id": "971c11ce27d89bcf"
  },
  {
   "cell_type": "markdown",
   "id": "91456abe8f03d713",
   "metadata": {},
   "source": [
    "#  inclusion dependencies "
   ]
  },
  {
   "cell_type": "code",
   "execution_count": 47,
   "id": "e0dad1f820bcae65",
   "metadata": {},
   "outputs": [],
   "source": [
    "# 导入必要的库\n",
    "import pandas as pd\n",
    "import numpy as np\n",
    "import matplotlib.pyplot as plt\n",
    "import networkx as nx\n",
    "import time\n",
    "from collections import defaultdict\n",
    "\n"
   ]
  },
  {
   "cell_type": "markdown",
   "id": "4423b3787918b9fb",
   "metadata": {},
   "source": [
    "## brute force"
   ]
  },
  {
   "cell_type": "code",
   "execution_count": 48,
   "id": "152429278fa1f658",
   "metadata": {
    "ExecuteTime": {
     "end_time": "2025-03-31T05:25:36.015859Z",
     "start_time": "2025-03-31T05:25:35.976159Z"
    }
   },
   "outputs": [],
   "source": [
    "def find_inclusion_dependencies(df, min_confidence=0.95):\n",
    "    \"\"\"\n",
    "    Find inclusion dependencies between columns in a DataFrame\n",
    "    \n",
    "    Parameters:\n",
    "    -----------\n",
    "    df : pandas DataFrame\n",
    "        The data to analyze\n",
    "    min_confidence : float, default=0.95\n",
    "        Minimum confidence threshold for inclusion dependencies\n",
    "        \n",
    "    Returns:\n",
    "    --------\n",
    "    list of tuples (A, B, confidence)\n",
    "        A ⊆ B with confidence score\n",
    "    \"\"\"\n",
    "    print(\"Finding inclusion dependencies...\")\n",
    "    start_time = time.time()\n",
    "\n",
    "    # Get unique values for each column\n",
    "    unique_values = {}\n",
    "    for col in df.columns:\n",
    "        unique_values[col] = set(df[col].dropna().unique())\n",
    "\n",
    "    dependencies = []\n",
    "    total_comparisons = len(df.columns) * (len(df.columns) - 1)\n",
    "\n",
    "    # Check each pair of columns\n",
    "    for i, col_a in enumerate(df.columns):\n",
    "        for col_b in df.columns:\n",
    "            if col_a != col_b:\n",
    "                # Skip if col_a has no values\n",
    "                if not unique_values[col_a]:\n",
    "                    continue\n",
    "\n",
    "                # Check if values in col_a are subset of values in col_b\n",
    "                overlap = unique_values[col_a].intersection(unique_values[col_b])\n",
    "                confidence = len(overlap) / len(unique_values[col_a])\n",
    "\n",
    "                # If confidence meets threshold, record dependency\n",
    "                if confidence >= min_confidence:\n",
    "                    dependencies.append((col_a, col_b, confidence))\n",
    "\n",
    "        # Progress update\n",
    "        if (i+1) % 5 == 0 or (i+1) == len(df.columns):\n",
    "            progress = (i+1) * (len(df.columns) - 1) / total_comparisons * 100\n",
    "            print(f\"Progress: {progress:.1f}% ({i+1}/{len(df.columns)} columns processed)\")\n",
    "\n",
    "    print(f\"Found {len(dependencies)} inclusion dependencies in {time.time() - start_time:.2f} seconds\")\n",
    "    return dependencies"
   ]
  },
  {
   "cell_type": "code",
   "execution_count": 49,
   "id": "da4c36579faf01d5",
   "metadata": {
    "ExecuteTime": {
     "end_time": "2025-03-31T05:26:27.264604Z",
     "start_time": "2025-03-31T05:26:27.243458Z"
    }
   },
   "outputs": [],
   "source": [
    "def visualize_inclusion_dependencies(deps, title):\n",
    "    \"\"\"\n",
    "    Visualize discovered inclusion dependencies as a network graph\n",
    "    \"\"\"\n",
    "    print(f\"\\nVisualizing {len(deps)} inclusion dependencies...\")\n",
    "\n",
    "    G = nx.DiGraph()\n",
    "\n",
    "    # Create nodes and edges\n",
    "    for col_a, col_b, confidence in deps:\n",
    "        if col_a not in G:\n",
    "            G.add_node(col_a, shape='ellipse')\n",
    "        if col_b not in G:\n",
    "            G.add_node(col_b, shape='ellipse')\n",
    "\n",
    "        # Edge from A to B means A ⊆ B\n",
    "        G.add_edge(col_a, col_b, width=confidence*3, weight=confidence,\n",
    "                   label=f\"{confidence:.2f}\")\n",
    "\n",
    "    # Draw the graph\n",
    "    plt.figure(figsize=(12, 10))\n",
    "\n",
    "    # Use hierarchical layout for better visualization of inclusion relationships\n",
    "    try:\n",
    "        pos = nx.nx_agraph.graphviz_layout(G, prog='dot')\n",
    "    except:\n",
    "        # Fallback to spring layout if graphviz is not available\n",
    "        pos = nx.spring_layout(G, k=0.8, iterations=100)\n",
    "\n",
    "    # Draw nodes\n",
    "    nx.draw_networkx_nodes(G, pos, node_color='lightgreen', node_size=2000, node_shape='o')\n",
    "\n",
    "    # Draw edges with varying width based on confidence\n",
    "    edge_widths = [G[u][v].get('width', 1) for u, v in G.edges()]\n",
    "    nx.draw_networkx_edges(G, pos, width=edge_widths,\n",
    "                           edge_color='blue', alpha=0.7,\n",
    "                           arrowsize=20, connectionstyle='arc3,rad=0.1')\n",
    "\n",
    "    # Draw labels\n",
    "    nx.draw_networkx_labels(G, pos, font_size=10, font_family='SimHei')\n",
    "\n",
    "    # Edge labels (confidences)\n",
    "    edge_labels = nx.get_edge_attributes(G, 'label')\n",
    "    nx.draw_networkx_edge_labels(G, pos, edge_labels=edge_labels, font_size=8)\n",
    "\n",
    "    plt.title(title)\n",
    "    plt.axis('off')\n",
    "    plt.tight_layout()\n",
    "\n",
    "    # Save figure\n",
    "    plt.savefig(f'{title.replace(\" \", \"_\")}.png', dpi=300)\n",
    "    plt.show()"
   ]
  },
  {
   "cell_type": "code",
   "execution_count": 50,
   "id": "cf73720037c402d5",
   "metadata": {
    "ExecuteTime": {
     "end_time": "2025-03-31T05:26:44.194653Z",
     "start_time": "2025-03-31T05:26:44.179068Z"
    }
   },
   "outputs": [],
   "source": [
    "def analyze_inclusion_dependencies(deps):\n",
    "    \"\"\"\n",
    "    Analyze inclusion dependencies to extract insights\n",
    "    \"\"\"\n",
    "    print(\"\\n========= Inclusion Dependency Analysis =========\")\n",
    "\n",
    "    # Find columns that are subsets of many other columns\n",
    "    subset_counts = defaultdict(int)\n",
    "    for col_a, _, _ in deps:\n",
    "        subset_counts[col_a] += 1\n",
    "\n",
    "    # Find columns that contain many other columns\n",
    "    superset_counts = defaultdict(int)\n",
    "    for _, col_b, _ in deps:\n",
    "        superset_counts[col_b] += 1\n",
    "\n",
    "    # Print top columns that are subsets of others\n",
    "    print(\"\\nTop columns that are subsets of others (potential foreign keys):\")\n",
    "    for col, count in sorted(subset_counts.items(), key=lambda x: x[1], reverse=True)[:5]:\n",
    "        print(f\"  {col}: contained in {count} other columns\")\n",
    "\n",
    "    # Print top columns that contain others\n",
    "    print(\"\\nTop columns that contain other columns (potential reference tables):\")\n",
    "    for col, count in sorted(superset_counts.items(), key=lambda x: x[1], reverse=True)[:5]:\n",
    "        print(f\"  {col}: contains {count} other columns\")\n",
    "\n",
    "    # Find chains of inclusion dependencies\n",
    "    print(\"\\nChains of inclusion dependencies (transitive relationships):\")\n",
    "    for a, b, conf_ab in deps:\n",
    "        for c, d, conf_cd in deps:\n",
    "            if b == c and a != d:\n",
    "                print(f\"  {a} ⊆ {b} ⊆ {d} (confidence: {conf_ab:.2f}, {conf_cd:.2f})\")\n",
    "\n",
    "    # Find bidirectional (equivalent) dependencies\n",
    "    print(\"\\nBidirectional dependencies (equivalent columns):\")\n",
    "    bidirectional = []\n",
    "    for a, b, conf_ab in deps:\n",
    "        for c, d, conf_cd in deps:\n",
    "            if a == d and b == c and a != b and (a, b) not in bidirectional and (b, a) not in bidirectional:\n",
    "                bidirectional.append((a, b))\n",
    "                print(f\"  {a} ≡ {b} (confidence: {conf_ab:.2f}, {conf_cd:.2f})\")"
   ]
  },
  {
   "cell_type": "code",
   "execution_count": 51,
   "id": "98f3916278f5e90c",
   "metadata": {
    "ExecuteTime": {
     "end_time": "2025-03-31T05:27:46.587558Z",
     "start_time": "2025-03-31T05:27:46.223676Z"
    }
   },
   "outputs": [],
   "source": [
    "columns_to_exclude = ['Violations' ]\n",
    "# 选择一部分列来加快算法执行速度\n",
    "columns_to_include = ['Inspection ID', 'DBA Name', 'AKA Name', 'License #',\n",
    "                      'Facility Type', 'Risk', 'City', 'State', 'Zip',\n",
    "                      'Inspection Type', 'Results','Location']\n",
    "df_analysis = df.drop(columns=columns_to_exclude)[columns_to_include]\n",
    "df_analysis = df_analysis.fillna('__NULL__')"
   ]
  },
  {
   "cell_type": "code",
   "execution_count": 52,
   "id": "a30f30f978929e11",
   "metadata": {
    "ExecuteTime": {
     "end_time": "2025-03-31T05:28:04.554350Z",
     "start_time": "2025-03-31T05:28:04.297505Z"
    }
   },
   "outputs": [
    {
     "name": "stdout",
     "output_type": "stream",
     "text": [
      "Using 1000 random sample rows to speed up processing...\n"
     ]
    }
   ],
   "source": [
    "sample_size = 1000  # 可根据需要调整\n",
    "if len(df_analysis) > sample_size:\n",
    "    print(f\"Using {sample_size} random sample rows to speed up processing...\")\n",
    "    df_sample = df_analysis.sample(sample_size, random_state=42)\n",
    "else:\n",
    "    df_sample = df_analysis"
   ]
  },
  {
   "cell_type": "code",
   "execution_count": 53,
   "id": "6975b2c4979773f9",
   "metadata": {
    "ExecuteTime": {
     "end_time": "2025-03-31T05:29:07.984262Z",
     "start_time": "2025-03-31T05:29:07.953627Z"
    }
   },
   "outputs": [
    {
     "name": "stdout",
     "output_type": "stream",
     "text": [
      "Finding inclusion dependencies...\n",
      "Progress: 41.7% (5/12 columns processed)\n",
      "Progress: 83.3% (10/12 columns processed)\n",
      "Progress: 100.0% (12/12 columns processed)\n",
      "Found 0 inclusion dependencies in 0.00 seconds\n"
     ]
    }
   ],
   "source": [
    "# 发现包含依赖\n",
    "inclusion_deps = find_inclusion_dependencies(df_sample, min_confidence=0.95)\n",
    "\n",
    "# 打印一些发现的包含依赖\n",
    "if inclusion_deps:\n",
    "    print(\"\\nSome inclusion dependencies discovered:\")\n",
    "    for dep in sorted(inclusion_deps, key=lambda x: x[2], reverse=True)[:10]:\n",
    "        print(f\"{dep[0]} ⊆ {dep[1]} (confidence: {dep[2]:.4f})\")"
   ]
  },
  {
   "cell_type": "markdown",
   "id": "ee4b15a89618cebf",
   "metadata": {},
   "source": [
    "# data quality"
   ]
  },
  {
   "cell_type": "code",
   "execution_count": 54,
   "id": "bd76288efbd2dc04",
   "metadata": {
    "ExecuteTime": {
     "end_time": "2025-03-31T06:21:02.913633Z",
     "start_time": "2025-03-31T06:21:02.888711Z"
    }
   },
   "outputs": [
    {
     "ename": "ModuleNotFoundError",
     "evalue": "No module named 'seaborn'",
     "output_type": "error",
     "traceback": [
      "\u001B[0;31m---------------------------------------------------------------------------\u001B[0m",
      "\u001B[0;31mModuleNotFoundError\u001B[0m                       Traceback (most recent call last)",
      "Cell \u001B[0;32mIn[54], line 5\u001B[0m\n\u001B[1;32m      3\u001B[0m \u001B[38;5;28;01mimport\u001B[39;00m\u001B[38;5;250m \u001B[39m\u001B[38;5;21;01mnumpy\u001B[39;00m\u001B[38;5;250m \u001B[39m\u001B[38;5;28;01mas\u001B[39;00m\u001B[38;5;250m \u001B[39m\u001B[38;5;21;01mnp\u001B[39;00m\n\u001B[1;32m      4\u001B[0m \u001B[38;5;28;01mimport\u001B[39;00m\u001B[38;5;250m \u001B[39m\u001B[38;5;21;01mmatplotlib\u001B[39;00m\u001B[38;5;21;01m.\u001B[39;00m\u001B[38;5;21;01mpyplot\u001B[39;00m\u001B[38;5;250m \u001B[39m\u001B[38;5;28;01mas\u001B[39;00m\u001B[38;5;250m \u001B[39m\u001B[38;5;21;01mplt\u001B[39;00m\n\u001B[0;32m----> 5\u001B[0m \u001B[38;5;28;01mimport\u001B[39;00m\u001B[38;5;250m \u001B[39m\u001B[38;5;21;01mseaborn\u001B[39;00m\u001B[38;5;250m \u001B[39m\u001B[38;5;28;01mas\u001B[39;00m\u001B[38;5;250m \u001B[39m\u001B[38;5;21;01msns\u001B[39;00m\n\u001B[1;32m      6\u001B[0m \u001B[38;5;28;01mfrom\u001B[39;00m\u001B[38;5;250m \u001B[39m\u001B[38;5;21;01mdatetime\u001B[39;00m\u001B[38;5;250m \u001B[39m\u001B[38;5;28;01mimport\u001B[39;00m datetime\n\u001B[1;32m      7\u001B[0m \u001B[38;5;28;01mimport\u001B[39;00m\u001B[38;5;250m \u001B[39m\u001B[38;5;21;01mre\u001B[39;00m\n",
      "\u001B[0;31mModuleNotFoundError\u001B[0m: No module named 'seaborn'"
     ]
    }
   ],
   "source": [
    "# Import necessary libraries\n",
    "import pandas as pd\n",
    "import numpy as np\n",
    "import matplotlib.pyplot as plt\n",
    "import seaborn as sns\n",
    "from datetime import datetime\n",
    "import re\n",
    "import missingno as msno\n",
    "from collections import defaultdict"
   ]
  },
  {
   "cell_type": "code",
   "execution_count": null,
   "id": "f5f278761966b343",
   "metadata": {
    "ExecuteTime": {
     "end_time": "2025-03-31T05:47:23.906170Z",
     "start_time": "2025-03-31T05:47:21.386294Z"
    }
   },
   "outputs": [],
   "source": [
    "# Basic statistical information\n",
    "print(\"Basic statistical information:\")\n",
    "df.describe(include='all').T"
   ]
  },
  {
   "cell_type": "code",
   "execution_count": null,
   "id": "5419de23c5049bdd",
   "metadata": {
    "ExecuteTime": {
     "end_time": "2025-03-31T06:21:09.165913Z",
     "start_time": "2025-03-31T06:21:07.045728Z"
    }
   },
   "outputs": [],
   "source": [
    "# Missing value analysis\n",
    "print(\"Missing value analysis:\")\n",
    "missing_values = df.isnull().sum()\n",
    "missing_percentage = (missing_values / len(df)) * 100\n",
    "missing_df = pd.DataFrame({\n",
    "    'Missing Count': missing_values,\n",
    "    'Missing Percentage': missing_percentage.round(2)\n",
    "})\n",
    "missing_df = missing_df.sort_values('Missing Percentage', ascending=False)\n",
    "\n",
    "# Display missing value information\n",
    "print(missing_df)\n",
    "\n",
    "# Visualize missing values\n",
    "plt.figure(figsize=(12, 8))\n",
    "msno.matrix(df)\n",
    "plt.title(\"Missing Value Pattern Matrix\")\n",
    "plt.tight_layout()\n",
    "plt.show()\n",
    "\n",
    "plt.figure(figsize=(12, 8))\n",
    "msno.bar(df)\n",
    "plt.title(\"Missing Value Percentage by Column\")\n",
    "plt.tight_layout()\n",
    "plt.show()\n",
    "\n",
    "# Missing value correlation heatmap\n",
    "plt.figure(figsize=(12, 10))\n",
    "msno.heatmap(df)\n",
    "plt.title(\"Missing Value Correlation Heatmap\")\n",
    "plt.tight_layout()\n",
    "plt.show()"
   ]
  },
  {
   "cell_type": "code",
   "execution_count": null,
   "id": "567616b47360e71b",
   "metadata": {
    "ExecuteTime": {
     "end_time": "2025-03-31T06:24:02.041189Z",
     "start_time": "2025-03-31T06:24:01.529275Z"
    }
   },
   "outputs": [],
   "source": [
    "# Check for completely duplicate records\n",
    "duplicate_rows = df.duplicated().sum()\n",
    "print(f\"\\nNumber of completely duplicate rows: {duplicate_rows}\")\n",
    "\n",
    "# Check for duplicates in specific column combinations\n",
    "if 'Inspection ID' in df.columns:\n",
    "    inspection_id_duplicates = df.duplicated('Inspection ID').sum()\n",
    "    print(f\"Number of duplicate Inspection IDs: {inspection_id_duplicates}\")\n",
    "\n",
    "    if inspection_id_duplicates > 0:\n",
    "        print(\"\\nExamples of duplicate Inspection IDs:\")\n",
    "        duplicate_ids = df[df.duplicated('Inspection ID', keep=False)]['Inspection ID'].unique()\n",
    "        print(df[df['Inspection ID'].isin(duplicate_ids[:5])].sort_values('Inspection ID'))"
   ]
  },
  {
   "cell_type": "code",
   "execution_count": null,
   "id": "a406d8bdea055449",
   "metadata": {
    "ExecuteTime": {
     "end_time": "2025-03-31T08:11:32.061430Z",
     "start_time": "2025-03-31T08:11:32.056625Z"
    }
   },
   "outputs": [],
   "source": []
  },
  {
   "cell_type": "code",
   "execution_count": null,
   "id": "a5c666b4c35e251",
   "metadata": {
    "ExecuteTime": {
     "end_time": "2025-03-31T08:07:07.278307Z",
     "start_time": "2025-03-31T08:07:07.146546Z"
    }
   },
   "outputs": [],
   "source": [
    "# Check value consistency for categorical variables\n",
    "categorical_columns = ['Facility Type', 'Risk', 'City', 'State', 'Inspection Type', 'Results']\n",
    "for col in categorical_columns:\n",
    "    if col in df.columns:\n",
    "        value_counts = df[col].value_counts()\n",
    "\n",
    "        print(f\"\\nValue distribution for column '{col}':\")\n",
    "        print(value_counts.head(10))\n",
    "\n",
    "        # Check for spelling errors and inconsistent values\n",
    "        if len(value_counts) > 20:\n",
    "            print(f\"Warning: Column '{col}' has {len(value_counts)} different values, possible spelling errors or inconsistencies\")\n",
    "\n",
    "            # Try to identify similar values\n",
    "            from difflib import get_close_matches\n",
    "            all_values = value_counts.index.tolist()\n",
    "            similar_values = {}\n",
    "\n",
    "            for val in all_values[:20]:  # Only check the top 20 common values\n",
    "                matches = get_close_matches(val, all_values, n=3, cutoff=0.8)\n",
    "                if len(matches) > 1:  # Exclude self\n",
    "                    similar_values[val] = [m for m in matches if m != val]\n",
    "\n",
    "            if similar_values:\n",
    "                print(\"Possibly similar values:\")\n",
    "                for val, matches in similar_values.items():\n",
    "                    count_val = value_counts[val]\n",
    "                    counts_matches = [f\"{m} ({value_counts[m]})\" for m in matches]\n",
    "                    print(f\"  {val} ({count_val}) similar to: {', '.join(counts_matches)}\")"
   ]
  },
  {
   "cell_type": "code",
   "execution_count": null,
   "id": "aadd512715ef865b",
   "metadata": {
    "ExecuteTime": {
     "end_time": "2025-03-31T08:13:32.268724Z",
     "start_time": "2025-03-31T08:13:32.093098Z"
    }
   },
   "outputs": [],
   "source": [
    "# Check potential referential integrity issues\n",
    "fk_pairs = []\n",
    "\n",
    "# Check relationship between License # and facility name\n",
    "if 'License #' in df.columns and 'DBA Name' in df.columns:\n",
    "    fk_pairs.append(('License #', 'DBA Name'))\n",
    "\n",
    "# Check relationship between City and State\n",
    "if 'City' in df.columns and 'State' in df.columns:\n",
    "    fk_pairs.append(('City', 'State'))\n",
    "\n",
    "for fk, pk in fk_pairs:\n",
    "    print(f\"\\nChecking referential integrity between {fk} and {pk}:\")\n",
    "\n",
    "    # For each foreign key value, there should be only one primary key value\n",
    "    fk_to_pk = df.groupby(fk)[pk].nunique()\n",
    "    inconsistent = fk_to_pk[fk_to_pk > 1]\n",
    "\n",
    "    if len(inconsistent) > 0:\n",
    "        print(f\"Found {len(inconsistent)} {fk} values mapping to multiple {pk} values\")\n",
    "        print(\"Examples:\")\n",
    "        for fk_val in inconsistent.index[:5]:\n",
    "            print(f\"  {fk} = {fk_val}:\")\n",
    "            print(f\"    Corresponding {pk} values: {', '.join(map(str, df[df[fk] == fk_val][pk].unique()))}\")"
   ]
  },
  {
   "cell_type": "code",
   "execution_count": null,
   "id": "2de52eb67d2429fb",
   "metadata": {
    "ExecuteTime": {
     "end_time": "2025-03-31T08:16:07.062295Z",
     "start_time": "2025-03-31T08:16:07.054356Z"
    }
   },
   "outputs": [],
   "source": [
    "# Check temporal consistency issues\n",
    "date_cols = [col for col in df.columns if 'Date' in col]\n",
    "if len(date_cols) >= 2:\n",
    "    # Convert date columns\n",
    "    for col in date_cols:\n",
    "        df[col + '_dt'] = pd.to_datetime(df[col], errors='coerce')\n",
    "\n",
    "    # Check date ordering\n",
    "    for i in range(len(date_cols)):\n",
    "        for j in range(i+1, len(date_cols)):\n",
    "            col1, col2 = date_cols[i], date_cols[j]\n",
    "            col1_dt, col2_dt = col1 + '_dt', col2 + '_dt'\n",
    "\n",
    "            # Only compare records where both dates are valid\n",
    "            valid_dates = df.dropna(subset=[col1_dt, col2_dt])\n",
    "            if len(valid_dates) > 0:\n",
    "                # Check records with incorrect time order\n",
    "                if col1.lower().startswith('inspection') and col2.lower().startswith('inspection'):\n",
    "                    # Assuming inspection dates should be in chronological order\n",
    "                    wrong_order = valid_dates[valid_dates[col1_dt] > valid_dates[col2_dt]]\n",
    "\n",
    "                    print(f\"\\nChecking time order between {col1} and {col2}:\")\n",
    "                    print(f\"Found {len(wrong_order)} records with incorrect date ordering\")\n",
    "\n",
    "                    if len(wrong_order) > 0:\n",
    "                        print(\"Examples:\")\n",
    "                        print(wrong_order[[col1, col2, col1_dt, col2_dt]].head())\n",
    "\n",
    "    # Clean up temporary date columns\n",
    "    for col in date_cols:\n",
    "        if col + '_dt' in df.columns:\n",
    "            df.drop(col + '_dt', axis=1, inplace=True)"
   ]
  },
  {
   "cell_type": "code",
   "execution_count": null,
   "id": "e895bacd9e5f1079",
   "metadata": {
    "ExecuteTime": {
     "end_time": "2025-03-31T08:17:03.176132Z",
     "start_time": "2025-03-31T08:17:02.740590Z"
    }
   },
   "outputs": [],
   "source": [
    "# Calculate comprehensive data quality score\n",
    "def calculate_data_quality_score(df):\n",
    "    \"\"\"Calculate comprehensive data quality score for the dataset\"\"\"\n",
    "    scores = {}\n",
    "\n",
    "    # 1. Completeness score\n",
    "    missing_ratio = df.isnull().mean().mean()\n",
    "    scores['Completeness'] = 1 - missing_ratio\n",
    "\n",
    "    # 2. Uniqueness score\n",
    "    if 'Inspection ID' in df.columns:\n",
    "        duplicate_ratio = df.duplicated('Inspection ID').mean()\n",
    "        scores['Uniqueness'] = 1 - duplicate_ratio\n",
    "    else:\n",
    "        duplicate_ratio = df.duplicated().mean()\n",
    "        scores['Uniqueness'] = 1 - duplicate_ratio\n",
    "\n",
    "    # 3. Consistency score\n",
    "    consistency_issues = 0\n",
    "\n",
    "    # Check if inspection result proportions are consistent across facility types\n",
    "    if 'Facility Type' in df.columns and 'Results' in df.columns:\n",
    "        facility_results = df.groupby('Facility Type')['Results'].value_counts(normalize=True).unstack()\n",
    "        if facility_results is not None and not facility_results.empty:\n",
    "            # Calculate standard deviation of result distributions across facility types\n",
    "            result_std = facility_results.std().mean()\n",
    "            consistency_issues += min(1, result_std * 5)  # Higher std dev means lower consistency\n",
    "\n",
    "    scores['Consistency'] = max(0, 1 - consistency_issues)\n",
    "\n",
    "    # 4. Validity score\n",
    "    validity_issues = 0\n",
    "\n",
    "    # Check if category values match expectations\n",
    "    if 'Results' in df.columns:\n",
    "        valid_results = ['Pass', 'Pass with Conditions', 'Fail', 'Not Ready']\n",
    "        invalid_ratio = df[~df['Results'].isin(valid_results) & df['Results'].notna()].shape[0] / df.shape[0]\n",
    "        validity_issues += invalid_ratio\n",
    "\n",
    "    scores['Validity'] = max(0, 1 - validity_issues)\n",
    "\n",
    "    # 5. Timeliness score\n",
    "    timeliness_score = 1.0\n",
    "    if 'Inspection Date' in df.columns:\n",
    "        try:\n",
    "            df['Inspection Date'] = pd.to_datetime(df['Inspection Date'], errors='coerce')\n",
    "            today = pd.Timestamp.now()\n",
    "            max_date = df['Inspection Date'].max()\n",
    "            days_since_last = (today - max_date).days\n",
    "\n",
    "            # Score based on freshness of the most recent data\n",
    "            if days_since_last < 30:\n",
    "                timeliness_score = 1.0\n",
    "            elif days_since_last < 90:\n",
    "                timeliness_score = 0.9\n",
    "            elif days_since_last < 180:\n",
    "                timeliness_score = 0.8\n",
    "            elif days_since_last < 365:\n",
    "                timeliness_score = 0.6\n",
    "            else:\n",
    "                timeliness_score = 0.4\n",
    "        except:\n",
    "            timeliness_score = 0.5  # Unable to parse date\n",
    "\n",
    "    scores['Timeliness'] = timeliness_score\n",
    "\n",
    "    # Calculate overall score\n",
    "    overall_score = sum(scores.values()) / len(scores)\n",
    "    scores['Overall'] = overall_score\n",
    "\n",
    "    return scores\n",
    "\n",
    "# Calculate and display data quality scores\n",
    "quality_scores = calculate_data_quality_score(df)\n",
    "print(\"\\nData Quality Scores:\")\n",
    "for dimension, score in quality_scores.items():\n",
    "    print(f\"{dimension}: {score:.2f} / 1.00\")\n",
    "\n",
    "# Visualize data quality scores\n",
    "dimensions = list(quality_scores.keys())\n",
    "if 'Overall' in dimensions:\n",
    "    dimensions.remove('Overall')  # Don't show overall score in radar chart\n",
    "\n",
    "values = [quality_scores[dim] for dim in dimensions]\n",
    "values += values[:1]  # Close the radar chart\n",
    "angles = np.linspace(0, 2*np.pi, len(dimensions), endpoint=False).tolist()\n",
    "angles += angles[:1]  # Close the radar chart\n",
    "\n",
    "fig, ax = plt.subplots(figsize=(10, 8), subplot_kw=dict(polar=True))\n",
    "ax.plot(angles, values, 'o-', linewidth=2)\n",
    "ax.fill(angles, values, alpha=0.25)\n",
    "ax.set_thetagrids(np.degrees(angles[:-1]), dimensions)\n",
    "ax.set_ylim(0, 1)\n",
    "ax.grid(True)\n",
    "ax.set_title(\"Data Quality Score Radar Chart\", size=15)\n",
    "\n",
    "for angle, value, dimension in zip(angles[:-1], values[:-1], dimensions):\n",
    "    ax.text(angle, value + 0.05, f'{dimension}: {value:.2f}',\n",
    "            horizontalalignment='center', size=9)\n",
    "\n",
    "plt.tight_layout()\n",
    "plt.show()"
   ]
  },
  {
   "cell_type": "code",
   "execution_count": null,
   "id": "ad2573658546eec3",
   "metadata": {
    "ExecuteTime": {
     "end_time": "2025-03-31T08:24:48.230929Z",
     "start_time": "2025-03-31T08:24:48.227800Z"
    }
   },
   "outputs": [],
   "source": []
  }
 ],
 "metadata": {
  "kernelspec": {
   "display_name": "Python3 (ipykernel)",
   "language": "python",
   "name": "python3"
  },
  "language_info": {
   "codemirror_mode": {
    "name": "ipython",
    "version": 3
   },
   "file_extension": ".py",
   "mimetype": "text/x-python",
   "name": "python",
   "nbconvert_exporter": "python",
   "pygments_lexer": "ipython3",
   "version": "3.10.12"
  }
 },
 "nbformat": 4,
 "nbformat_minor": 5
}
